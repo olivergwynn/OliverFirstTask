{
 "cells": [
  {
   "cell_type": "markdown",
   "id": "6f1be131-0e7a-46fd-bdaa-88749cd50147",
   "metadata": {},
   "source": [
    "# Aggregating Population Change and Migration Types for Franklin and Delaware Counties from Census PEP data"
   ]
  },
  {
   "cell_type": "markdown",
   "id": "6153bc9a-624c-45d4-a184-5864723f97ec",
   "metadata": {
    "jp-MarkdownHeadingCollapsed": true
   },
   "source": [
    "## Introduction"
   ]
  },
  {
   "cell_type": "markdown",
   "id": "24a36257-3292-4f33-a770-7bcc5f6c7f1e",
   "metadata": {},
   "source": [
    "This script is meant to take county-wide Census Pep data and filter for Franklin and Delaware from 2010-2021 and output two new agregated tables, one to focus on migration type and the other population change type, where the trends between the counties are combined."
   ]
  },
  {
   "cell_type": "markdown",
   "id": "b824221f-9be1-4045-90e5-809aa62bbd4d",
   "metadata": {},
   "source": [
    "### Process outline"
   ]
  },
  {
   "cell_type": "markdown",
   "id": "21df8ec3-9b54-4609-b1c0-b245fd0717cd",
   "metadata": {},
   "source": [
    "The process carried out by this workflow can be described as follows:\n",
    "  - The script will retrieve the Census PEP datasets from the local MORPC repo\n",
    "  - Filter to only retain and sum records from Franklin or Delawre, Ohio 2010-2021\n",
    "  - Identify and keep only the rows containing the maximum 'Vintage' for each 'Year'\n",
    "  - Transform tables to aggregate migration information by type and aggregate population change information by type.\n",
    "  - Write aggregated tables and stacked bar charts to Excel to distingush between international and domestic migration and another to distinguish between natrual population change and net migration"
   ]
  },
  {
   "cell_type": "markdown",
   "id": "03bf7a31-2bc4-4fcd-be64-a3f7219a17cf",
   "metadata": {
    "jp-MarkdownHeadingCollapsed": true
   },
   "source": [
    "## Setup"
   ]
  },
  {
   "cell_type": "markdown",
   "id": "5510cf59-c66f-4d79-b147-c52b74bde80b",
   "metadata": {},
   "source": [
    "### Import required packages"
   ]
  },
  {
   "cell_type": "code",
   "execution_count": 40,
   "id": "405b3b7f-7699-4439-ae71-7a66e19d6def",
   "metadata": {},
   "outputs": [],
   "source": [
    "import csv\n",
    "import os\n",
    "import shutil\n",
    "import json\n",
    "from tableschema import Table\n",
    "import pandas as pd\n",
    "import matplotlib.pyplot as plt\n",
    "import sys\n",
    "sys.path.append(os.path.normpath(\"../../morpc-common\"))"
   ]
  },
  {
   "cell_type": "markdown",
   "id": "4ecac21c-1d39-49c0-9619-56391e211c65",
   "metadata": {
    "jp-MarkdownHeadingCollapsed": true
   },
   "source": [
    "### Parameters"
   ]
  },
  {
   "cell_type": "code",
   "execution_count": 41,
   "id": "ef04f68c-17a2-4e6a-b0de-b103a1519032",
   "metadata": {
    "scrolled": true
   },
   "outputs": [],
   "source": [
    "# Assign a color to each of the expected bars in the chart using hex codes.\n",
    "BAR_COLORS = {\n",
    "    \"NatChange\": \"#1f77b4\",  # Mid blue\n",
    "    \"Migration\": \"#2ca02c\",  # Light green\n",
    "    \"DomesticMig\": \"#ff7f0e\",  # Another shade of blue or orange for distinction\n",
    "    \"InternationalMig\": \"#d62728\"  # A different shade of green or red for distinction\n",
    "}\n",
    "\n",
    "# Specify the number formatting string to be used on the y-axis of the charts\n",
    "# NUMBER_FORMAT_STRING = '[>=1000]#,##0,\"K\";'\n",
    "\n",
    "# Define input and output directories\n",
    "INPUT_DIR = \"./input_data\"\n",
    "OUTPUT_DIR = \"./output_data\""
   ]
  },
  {
   "cell_type": "markdown",
   "id": "2ea3f404-c235-4228-ba92-32cc95346e0b",
   "metadata": {
    "jp-MarkdownHeadingCollapsed": true
   },
   "source": [
    "### Define inputs"
   ]
  },
  {
   "cell_type": "markdown",
   "id": "b5be85f9-6236-4777-be85-9aa5e36ffc9f",
   "metadata": {},
   "source": [
    "#### Census Pep country wide table"
   ]
  },
  {
   "cell_type": "code",
   "execution_count": 42,
   "id": "f34170c8-139f-41f9-8d8a-c90825fe7fde",
   "metadata": {},
   "outputs": [
    {
     "name": "stdout",
     "output_type": "stream",
     "text": [
      "Data: ./input_data\\censusPep_county_wide.csv\n",
      "Schema: ./input_data\\censusPep_county_wide_schema.json\n"
     ]
    }
   ],
   "source": [
    "CENSUSPEP_COUNTY_WIDE_TABLE_FILENAME = \"censusPep_county_wide.csv\"\n",
    "CENSUSPEP_COUNTY_WIDE_TABLE_PATH = os.path.join(INPUT_DIR, CENSUSPEP_COUNTY_WIDE_TABLE_FILENAME)\n",
    "CENSUSPEP_COUNTY_WIDE_TABLE_SCHEMA_FILENAME = CENSUSPEP_COUNTY_WIDE_TABLE_FILENAME.replace(\".csv\",\"_schema.json\")\n",
    "CENSUSPEP_COUNTY_WIDE_TABLE_SCHEMA_PATH = os.path.join(INPUT_DIR, CENSUSPEP_COUNTY_WIDE_TABLE_SCHEMA_FILENAME)\n",
    "print(\"Data: {}\".format(CENSUSPEP_COUNTY_WIDE_TABLE_PATH))\n",
    "print(\"Schema: {}\".format(CENSUSPEP_COUNTY_WIDE_TABLE_SCHEMA_PATH))"
   ]
  },
  {
   "cell_type": "markdown",
   "id": "4bf33502-f8cc-4869-8055-8d0027a8ac4d",
   "metadata": {
    "jp-MarkdownHeadingCollapsed": true
   },
   "source": [
    "### Define outputs\n",
    "The following datasets will be produced by the process described in this notebook."
   ]
  },
  {
   "cell_type": "markdown",
   "id": "dd726bcd-8d4e-4608-b2ea-3bfd5a67739f",
   "metadata": {},
   "source": [
    "#### Franklin and Delaware counties migration by type and year (2010-2021)"
   ]
  },
  {
   "cell_type": "code",
   "execution_count": 43,
   "id": "b62955be-728f-455d-8f5c-ff1c7c9a3d91",
   "metadata": {
    "scrolled": true
   },
   "outputs": [
    {
     "name": "stdout",
     "output_type": "stream",
     "text": [
      "Data: ./output_data\\migration_aggregated_data.csv\n",
      "Schema: ./output_data\\migration_aggregated_data_schema.json\n"
     ]
    }
   ],
   "source": [
    "MIGRATION_TABLE_FILENAME = \"migration_aggregated_data.csv\"\n",
    "MIGRATION_TABLE_PATH = os.path.join(OUTPUT_DIR, MIGRATION_TABLE_FILENAME)\n",
    "MIGRATION_TABLE_SCHEMA_FILENAME = MIGRATION_TABLE_FILENAME.replace(\".csv\",\"_schema.json\")\n",
    "MIGRATION_TABLE_SCHEMA_PATH = os.path.join(OUTPUT_DIR, MIGRATION_TABLE_SCHEMA_FILENAME)\n",
    "print(\"Data: {}\".format(MIGRATION_TABLE_PATH))\n",
    "print(\"Schema: {}\".format(MIGRATION_TABLE_SCHEMA_PATH))"
   ]
  },
  {
   "cell_type": "markdown",
   "id": "41d49e12-0432-4e4f-9263-af4b7da04f13",
   "metadata": {},
   "source": [
    "#### Franklin and Delaware counties population change by type and year (2010-2021)"
   ]
  },
  {
   "cell_type": "code",
   "execution_count": 44,
   "id": "6c459ff3-6ecc-47e9-9d33-8fb97e7f978c",
   "metadata": {},
   "outputs": [
    {
     "name": "stdout",
     "output_type": "stream",
     "text": [
      "Data: ./output_data\\popChange_aggregated_data.csv\n",
      "Schema: ./output_data\\popChange_aggregated_data_schema.json\n"
     ]
    }
   ],
   "source": [
    "POPCHANGE_TABLE_FILENAME = \"popChange_aggregated_data.csv\"\n",
    "POPCHANGE_TABLE_PATH = os.path.join(OUTPUT_DIR, POPCHANGE_TABLE_FILENAME)\n",
    "POPCHANGE_TABLE_SCHEMA_FILENAME = POPCHANGE_TABLE_FILENAME.replace(\".csv\",\"_schema.json\")\n",
    "POPCHANGE_TABLE_SCHEMA_PATH = os.path.join(OUTPUT_DIR, POPCHANGE_TABLE_SCHEMA_FILENAME)\n",
    "print(\"Data: {}\".format(POPCHANGE_TABLE_PATH))\n",
    "print(\"Schema: {}\".format(POPCHANGE_TABLE_SCHEMA_PATH))"
   ]
  },
  {
   "cell_type": "markdown",
   "id": "53124e0c-6bae-42da-ba9f-7203393957b5",
   "metadata": {},
   "source": [
    "#### Compiled Excel sheet"
   ]
  },
  {
   "cell_type": "code",
   "execution_count": 45,
   "id": "86f4ffce-d3ae-449d-ba46-4ad0745daf01",
   "metadata": {},
   "outputs": [
    {
     "name": "stdout",
     "output_type": "stream",
     "text": [
      "Output data path: ./output_data\\compiled.xlsx\n"
     ]
    }
   ],
   "source": [
    "OUTPUT_TABLE_FILENAME = \"compiled.xlsx\"\n",
    "OUTPUT_TABLE_PATH = os.path.join(OUTPUT_DIR, OUTPUT_TABLE_FILENAME)\n",
    "print(\"Output data path: {}\".format(OUTPUT_TABLE_PATH))"
   ]
  },
  {
   "cell_type": "markdown",
   "id": "752ef894-58af-4ac8-99be-ea5f016b76fb",
   "metadata": {
    "jp-MarkdownHeadingCollapsed": true
   },
   "source": [
    "## Create Census Pep table and schema in input path"
   ]
  },
  {
   "cell_type": "markdown",
   "id": "3d4c8e95-4530-466e-b160-9756d113fa63",
   "metadata": {},
   "source": [
    "### Copying Census Pep country wide table to input directory"
   ]
  },
  {
   "cell_type": "code",
   "execution_count": 46,
   "id": "ab146804-93c0-4cb5-85de-ce9d2b4b1276",
   "metadata": {},
   "outputs": [],
   "source": [
    "# Adjust the path to where the .csv table and .json schema are located\n",
    "table_path = \"../morpc-censuspep-fetch/output_data/censusPep_county_wide.csv\"\n",
    "\n",
    "# Read the CSV file into a DataFrame\n",
    "data = pd.read_csv(table_path)\n",
    "\n",
    "# Save the census data to the input directory\n",
    "data.to_csv(CENSUSPEP_COUNTY_WIDE_TABLE_PATH)"
   ]
  },
  {
   "cell_type": "markdown",
   "id": "344c99c2-621b-41df-9ac3-de946bd3488e",
   "metadata": {},
   "source": [
    "### Creating Census Pep country wide table schema to input directory with TableSchema"
   ]
  },
  {
   "cell_type": "code",
   "execution_count": 47,
   "id": "d5f8c0fd-909d-4a2b-80b9-f08be5fc80ee",
   "metadata": {
    "scrolled": true
   },
   "outputs": [],
   "source": [
    "# Create table\n",
    "table = Table(CENSUSPEP_COUNTY_WIDE_TABLE_PATH)\n",
    "\n",
    "# Infer table variable types\n",
    "table.infer()\n",
    "\n",
    "# Convert missing values to 'N/A'\n",
    "table.schema.descriptor['missingValues'] = 'N/A'\n",
    "table.schema.commit()\n",
    "\n",
    "# Save schema\n",
    "table.schema.save(CENSUSPEP_COUNTY_WIDE_TABLE_SCHEMA_PATH)"
   ]
  },
  {
   "cell_type": "markdown",
   "id": "fe51194a-d3b5-46af-b37a-07052046f0b1",
   "metadata": {},
   "source": [
    "### Converting input table variables from schema"
   ]
  },
  {
   "cell_type": "code",
   "execution_count": 48,
   "id": "c425e40d-77c1-4dec-8b92-dc07811cb6da",
   "metadata": {},
   "outputs": [],
   "source": [
    "# Load the schema from the JSON file\n",
    "with open(CENSUSPEP_COUNTY_WIDE_TABLE_SCHEMA_PATH, 'r') as file:\n",
    "    schema = json.load(file)\n",
    "\n",
    "# Define a function to convert data types based on the schema\n",
    "def convert_data_types(row, schema):\n",
    "    converted_row = {}\n",
    "    for field in schema['fields']:\n",
    "        field_name = field['name']\n",
    "        field_type = field['type']\n",
    "        if field_name in row:\n",
    "            if field_type == 'int':\n",
    "                converted_row[field_name] = int(row[field_name])\n",
    "            elif field_type == 'string':\n",
    "                converted_row[field_name] = str(row[field_name])\n",
    "            # Add more type conversions as needed\n",
    "            else:\n",
    "                converted_row[field_name] = row[field_name]  # Keep as is if type not recognized\n",
    "    return converted_row\n",
    "\n",
    "# Read the input data, apply conversion, and process it\n",
    "converted_data = []\n",
    "\n",
    "with open(CENSUSPEP_COUNTY_WIDE_TABLE_PATH, 'r') as csvfile:\n",
    "    reader = csv.DictReader(csvfile)\n",
    "    for row in reader:\n",
    "        converted_row = convert_data_types(row, schema)\n",
    "        converted_data.append(converted_row)"
   ]
  },
  {
   "cell_type": "markdown",
   "id": "6d27a3fa-16c9-4dbd-9028-8c62ce76fd07",
   "metadata": {
    "jp-MarkdownHeadingCollapsed": true
   },
   "source": [
    "## Filtering for and combining Franklin, Ohio and Delaware, Ohio 2010-2021 with maximum vintage for each year"
   ]
  },
  {
   "cell_type": "markdown",
   "id": "2810b4a5-c46e-47e7-b31b-6aa81f840c0c",
   "metadata": {},
   "source": [
    "### Filter for maximum vintage for each year"
   ]
  },
  {
   "cell_type": "code",
   "execution_count": 49,
   "id": "d5eb449c-7096-4d9a-ad77-39f192b3eed4",
   "metadata": {},
   "outputs": [],
   "source": [
    "# Step 1: Group by 'Year' and identify the maximum 'Vintage' for each 'Year'\n",
    "max_vintage_per_year = data.groupby('Year')['Vintage'].transform(\"max\")\n",
    "\n",
    "# Step 2: Filter the original DataFrame to keep only rows with the maximum 'Vintage' for their 'Year'\n",
    "data = data[data['Vintage'] == max_vintage_per_year]"
   ]
  },
  {
   "cell_type": "markdown",
   "id": "80c557a5-c2b8-4106-b063-6c14d5cef3bc",
   "metadata": {},
   "source": [
    "### Filter for Ohio"
   ]
  },
  {
   "cell_type": "code",
   "execution_count": 50,
   "id": "6e82d5d7-c1bc-42e2-8bea-0ff19183c7fb",
   "metadata": {},
   "outputs": [],
   "source": [
    "# Filter for STNAME \"Ohio\"\n",
    "data = data[data['STNAME'].isin(['Ohio'])]"
   ]
  },
  {
   "cell_type": "markdown",
   "id": "961ccd1a-b86f-42e3-bf85-7906df82aef7",
   "metadata": {},
   "source": [
    "### Filter for Delaware and Franklin counties"
   ]
  },
  {
   "cell_type": "code",
   "execution_count": 51,
   "id": "d9b087d5-56ee-4e8d-ba45-3ac353327a5a",
   "metadata": {},
   "outputs": [],
   "source": [
    "# Filter for CITYNAME \"Delaware\" and \"Franklin\"\n",
    "data = data[data['CTYNAME'].isin(['Delaware', 'Franklin'])]"
   ]
  },
  {
   "cell_type": "markdown",
   "id": "73dc19f3-43aa-41d8-add5-fbc099238300",
   "metadata": {},
   "source": [
    "### Filter for 2010-2021"
   ]
  },
  {
   "cell_type": "code",
   "execution_count": 52,
   "id": "0746bbb7-bdcc-4d1c-b82b-31a6bb1e7b99",
   "metadata": {},
   "outputs": [
    {
     "data": {
      "text/html": [
       "<div>\n",
       "<style scoped>\n",
       "    .dataframe tbody tr th:only-of-type {\n",
       "        vertical-align: middle;\n",
       "    }\n",
       "\n",
       "    .dataframe tbody tr th {\n",
       "        vertical-align: top;\n",
       "    }\n",
       "\n",
       "    .dataframe thead th {\n",
       "        text-align: right;\n",
       "    }\n",
       "</style>\n",
       "<table border=\"1\" class=\"dataframe\">\n",
       "  <thead>\n",
       "    <tr style=\"text-align: right;\">\n",
       "      <th></th>\n",
       "      <th>GEOID</th>\n",
       "      <th>STNAME</th>\n",
       "      <th>CTYNAME</th>\n",
       "      <th>Year</th>\n",
       "      <th>Vintage</th>\n",
       "      <th>BIRTHS</th>\n",
       "      <th>DEATHS</th>\n",
       "      <th>DOMESTICMIG</th>\n",
       "      <th>INTERNATIONALMIG</th>\n",
       "      <th>NATURALCHG</th>\n",
       "      <th>NETMIG</th>\n",
       "      <th>NPOPCHG</th>\n",
       "      <th>POPESTIMATE</th>\n",
       "      <th>RESIDUAL</th>\n",
       "    </tr>\n",
       "  </thead>\n",
       "  <tbody>\n",
       "    <tr>\n",
       "      <th>33493</th>\n",
       "      <td>39041</td>\n",
       "      <td>Ohio</td>\n",
       "      <td>Delaware</td>\n",
       "      <td>2010</td>\n",
       "      <td>2019</td>\n",
       "      <td>557</td>\n",
       "      <td>249</td>\n",
       "      <td>527</td>\n",
       "      <td>70</td>\n",
       "      <td>308</td>\n",
       "      <td>597</td>\n",
       "      <td>927</td>\n",
       "      <td>175099</td>\n",
       "      <td>22</td>\n",
       "    </tr>\n",
       "    <tr>\n",
       "      <th>33497</th>\n",
       "      <td>39049</td>\n",
       "      <td>Ohio</td>\n",
       "      <td>Franklin</td>\n",
       "      <td>2010</td>\n",
       "      <td>2019</td>\n",
       "      <td>4506</td>\n",
       "      <td>1967</td>\n",
       "      <td>-630</td>\n",
       "      <td>930</td>\n",
       "      <td>2539</td>\n",
       "      <td>300</td>\n",
       "      <td>2726</td>\n",
       "      <td>1166202</td>\n",
       "      <td>-113</td>\n",
       "    </tr>\n",
       "    <tr>\n",
       "      <th>36635</th>\n",
       "      <td>39041</td>\n",
       "      <td>Ohio</td>\n",
       "      <td>Delaware</td>\n",
       "      <td>2011</td>\n",
       "      <td>2019</td>\n",
       "      <td>2093</td>\n",
       "      <td>923</td>\n",
       "      <td>2025</td>\n",
       "      <td>234</td>\n",
       "      <td>1170</td>\n",
       "      <td>2259</td>\n",
       "      <td>3436</td>\n",
       "      <td>178535</td>\n",
       "      <td>7</td>\n",
       "    </tr>\n",
       "    <tr>\n",
       "      <th>36639</th>\n",
       "      <td>39049</td>\n",
       "      <td>Ohio</td>\n",
       "      <td>Franklin</td>\n",
       "      <td>2011</td>\n",
       "      <td>2019</td>\n",
       "      <td>17857</td>\n",
       "      <td>8579</td>\n",
       "      <td>914</td>\n",
       "      <td>4408</td>\n",
       "      <td>9278</td>\n",
       "      <td>5322</td>\n",
       "      <td>14598</td>\n",
       "      <td>1180800</td>\n",
       "      <td>-2</td>\n",
       "    </tr>\n",
       "    <tr>\n",
       "      <th>39777</th>\n",
       "      <td>39041</td>\n",
       "      <td>Ohio</td>\n",
       "      <td>Delaware</td>\n",
       "      <td>2012</td>\n",
       "      <td>2019</td>\n",
       "      <td>2108</td>\n",
       "      <td>904</td>\n",
       "      <td>1111</td>\n",
       "      <td>288</td>\n",
       "      <td>1204</td>\n",
       "      <td>1399</td>\n",
       "      <td>2592</td>\n",
       "      <td>181127</td>\n",
       "      <td>-11</td>\n",
       "    </tr>\n",
       "  </tbody>\n",
       "</table>\n",
       "</div>"
      ],
      "text/plain": [
       "       GEOID STNAME   CTYNAME  Year  Vintage  BIRTHS  DEATHS  DOMESTICMIG  \\\n",
       "33493  39041   Ohio  Delaware  2010     2019     557     249          527   \n",
       "33497  39049   Ohio  Franklin  2010     2019    4506    1967         -630   \n",
       "36635  39041   Ohio  Delaware  2011     2019    2093     923         2025   \n",
       "36639  39049   Ohio  Franklin  2011     2019   17857    8579          914   \n",
       "39777  39041   Ohio  Delaware  2012     2019    2108     904         1111   \n",
       "\n",
       "       INTERNATIONALMIG  NATURALCHG  NETMIG  NPOPCHG  POPESTIMATE  RESIDUAL  \n",
       "33493                70         308     597      927       175099        22  \n",
       "33497               930        2539     300     2726      1166202      -113  \n",
       "36635               234        1170    2259     3436       178535         7  \n",
       "36639              4408        9278    5322    14598      1180800        -2  \n",
       "39777               288        1204    1399     2592       181127       -11  "
      ]
     },
     "execution_count": 52,
     "metadata": {},
     "output_type": "execute_result"
    }
   ],
   "source": [
    "# Filter for Years between 2010-2021\n",
    "data = data[(data['Year'] >= 2010) & (data['Year'] <= 2021)]\n",
    "\n",
    "#Convert 'Year' variable type to Integer\n",
    "data['Year'] = data['Year'].astype(int)\n",
    "data.head()"
   ]
  },
  {
   "cell_type": "markdown",
   "id": "92643cef-7312-4f27-8ddd-82204c58f090",
   "metadata": {},
   "source": [
    "### Combine records between Franklin and Delaware counties for each year"
   ]
  },
  {
   "cell_type": "code",
   "execution_count": 53,
   "id": "ba42cef8-29a9-43b7-abf3-65aed489893b",
   "metadata": {},
   "outputs": [
    {
     "data": {
      "text/html": [
       "<div>\n",
       "<style scoped>\n",
       "    .dataframe tbody tr th:only-of-type {\n",
       "        vertical-align: middle;\n",
       "    }\n",
       "\n",
       "    .dataframe tbody tr th {\n",
       "        vertical-align: top;\n",
       "    }\n",
       "\n",
       "    .dataframe thead th {\n",
       "        text-align: right;\n",
       "    }\n",
       "</style>\n",
       "<table border=\"1\" class=\"dataframe\">\n",
       "  <thead>\n",
       "    <tr style=\"text-align: right;\">\n",
       "      <th></th>\n",
       "      <th>Year</th>\n",
       "      <th>Total_Births</th>\n",
       "      <th>Total_Deaths</th>\n",
       "      <th>Total_DomesticMig</th>\n",
       "      <th>Total_InternationalMig</th>\n",
       "      <th>Total_NaturalChg</th>\n",
       "      <th>Total_NetMig</th>\n",
       "      <th>Total_NPopChg</th>\n",
       "      <th>Total_PopEstimate</th>\n",
       "      <th>Total_Residual</th>\n",
       "    </tr>\n",
       "  </thead>\n",
       "  <tbody>\n",
       "    <tr>\n",
       "      <th>0</th>\n",
       "      <td>2010</td>\n",
       "      <td>5063</td>\n",
       "      <td>2216</td>\n",
       "      <td>-103</td>\n",
       "      <td>1000</td>\n",
       "      <td>2847</td>\n",
       "      <td>897</td>\n",
       "      <td>3653</td>\n",
       "      <td>1341301</td>\n",
       "      <td>-91</td>\n",
       "    </tr>\n",
       "    <tr>\n",
       "      <th>1</th>\n",
       "      <td>2011</td>\n",
       "      <td>19950</td>\n",
       "      <td>9502</td>\n",
       "      <td>2939</td>\n",
       "      <td>4642</td>\n",
       "      <td>10448</td>\n",
       "      <td>7581</td>\n",
       "      <td>18034</td>\n",
       "      <td>1359335</td>\n",
       "      <td>5</td>\n",
       "    </tr>\n",
       "    <tr>\n",
       "      <th>2</th>\n",
       "      <td>2012</td>\n",
       "      <td>20237</td>\n",
       "      <td>9469</td>\n",
       "      <td>4585</td>\n",
       "      <td>5555</td>\n",
       "      <td>10768</td>\n",
       "      <td>10140</td>\n",
       "      <td>20837</td>\n",
       "      <td>1380172</td>\n",
       "      <td>-71</td>\n",
       "    </tr>\n",
       "    <tr>\n",
       "      <th>3</th>\n",
       "      <td>2013</td>\n",
       "      <td>20791</td>\n",
       "      <td>9926</td>\n",
       "      <td>5614</td>\n",
       "      <td>7564</td>\n",
       "      <td>10865</td>\n",
       "      <td>13178</td>\n",
       "      <td>24086</td>\n",
       "      <td>1404258</td>\n",
       "      <td>43</td>\n",
       "    </tr>\n",
       "    <tr>\n",
       "      <th>4</th>\n",
       "      <td>2014</td>\n",
       "      <td>21122</td>\n",
       "      <td>9865</td>\n",
       "      <td>5784</td>\n",
       "      <td>6489</td>\n",
       "      <td>11257</td>\n",
       "      <td>12273</td>\n",
       "      <td>23544</td>\n",
       "      <td>1427802</td>\n",
       "      <td>14</td>\n",
       "    </tr>\n",
       "  </tbody>\n",
       "</table>\n",
       "</div>"
      ],
      "text/plain": [
       "   Year  Total_Births  Total_Deaths  Total_DomesticMig  \\\n",
       "0  2010          5063          2216               -103   \n",
       "1  2011         19950          9502               2939   \n",
       "2  2012         20237          9469               4585   \n",
       "3  2013         20791          9926               5614   \n",
       "4  2014         21122          9865               5784   \n",
       "\n",
       "   Total_InternationalMig  Total_NaturalChg  Total_NetMig  Total_NPopChg  \\\n",
       "0                    1000              2847           897           3653   \n",
       "1                    4642             10448          7581          18034   \n",
       "2                    5555             10768         10140          20837   \n",
       "3                    7564             10865         13178          24086   \n",
       "4                    6489             11257         12273          23544   \n",
       "\n",
       "   Total_PopEstimate  Total_Residual  \n",
       "0            1341301             -91  \n",
       "1            1359335               5  \n",
       "2            1380172             -71  \n",
       "3            1404258              43  \n",
       "4            1427802              14  "
      ]
     },
     "execution_count": 53,
     "metadata": {},
     "output_type": "execute_result"
    }
   ],
   "source": [
    "# Group by 'YEAR' and calculate sums for the specified columns\n",
    "data = data.groupby('Year').agg(\n",
    "    Total_Births=pd.NamedAgg(column='BIRTHS', aggfunc='sum'),\n",
    "    Total_Deaths=pd.NamedAgg(column='DEATHS', aggfunc='sum'),\n",
    "    Total_DomesticMig=pd.NamedAgg(column='DOMESTICMIG', aggfunc='sum'),\n",
    "    Total_InternationalMig=pd.NamedAgg(column='INTERNATIONALMIG', aggfunc='sum'),\n",
    "    Total_NaturalChg=pd.NamedAgg(column='NATURALCHG', aggfunc='sum'),\n",
    "    Total_NetMig=pd.NamedAgg(column='NETMIG', aggfunc='sum'),\n",
    "    Total_NPopChg=pd.NamedAgg(column='NPOPCHG', aggfunc='sum'),\n",
    "    Total_PopEstimate=pd.NamedAgg(column='POPESTIMATE', aggfunc='sum'),\n",
    "    Total_Residual=pd.NamedAgg(column='RESIDUAL', aggfunc='sum')\n",
    ").reset_index() \n",
    "data.head()"
   ]
  },
  {
   "cell_type": "markdown",
   "id": "0ea8c573-d76f-4182-9375-8d549f83a121",
   "metadata": {
    "jp-MarkdownHeadingCollapsed": true
   },
   "source": [
    "## Creating migration change type table and schema"
   ]
  },
  {
   "cell_type": "markdown",
   "id": "21e2e9cb-5554-47a2-a261-47fa5fe0ee0e",
   "metadata": {},
   "source": [
    "### Aggregation for migration type table"
   ]
  },
  {
   "cell_type": "code",
   "execution_count": 54,
   "id": "cd249965-dc1b-4d66-8c11-237bbd84a214",
   "metadata": {},
   "outputs": [],
   "source": [
    "# Melt the DataFrame to \"unpivot\" the Total_DomesticMig and Total_InternationalMig columns\n",
    "migration_data = pd.melt(data, id_vars=['Year'], value_vars=['Total_DomesticMig', 'Total_InternationalMig'], var_name='ChangeType', value_name='PopChange')\n",
    "\n",
    "# Replace 'Total_DomesticMig' and 'Total_InternationalMig' with 'DomesticMig' and 'InternationalMig' respectively in the 'ChangeType' column\n",
    "migration_data['ChangeType'] = migration_data['ChangeType'].map({'Total_DomesticMig': 'DomesticMig', 'Total_InternationalMig': 'InternationalMig'})\n",
    "\n",
    "# Sort by 'Year'\n",
    "migration_data_sorted = migration_data.sort_values(by='Year')\n",
    "\n",
    "migration_data_sorted['ChangeType'] = migration_data_sorted['ChangeType'].replace('InternationalMig', 'International Migration')\n",
    "migration_data_sorted['ChangeType'] = migration_data_sorted['ChangeType'].replace('DomesticMig', 'Domestic Migration')\n",
    "\n",
    "# Save the 'grouped_data' DataFrame to output directory\n",
    "migration_data_sorted.to_csv(MIGRATION_TABLE_PATH, index=False)"
   ]
  },
  {
   "cell_type": "markdown",
   "id": "0d760b90-b101-4559-9725-e1c6322ede60",
   "metadata": {},
   "source": [
    "### Creating migration type table schema"
   ]
  },
  {
   "cell_type": "code",
   "execution_count": 55,
   "id": "923a4512-292d-42b4-933b-c414b7fcb4ab",
   "metadata": {},
   "outputs": [],
   "source": [
    "# Create table\n",
    "table = Table(MIGRATION_TABLE_PATH)\n",
    "\n",
    "# Infer table variable types\n",
    "table.infer()\n",
    "\n",
    "# Convert missing values to 'N/A'\n",
    "table.schema.descriptor['missingValues'] = 'N/A'\n",
    "table.schema.commit()\n",
    "\n",
    "# Save schema\n",
    "table.schema.save(MIGRATION_TABLE_SCHEMA_PATH)"
   ]
  },
  {
   "cell_type": "markdown",
   "id": "e2d70e67-e512-44f8-bc68-ca7341440b92",
   "metadata": {},
   "source": [
    "### Converting migration type table variables from schema"
   ]
  },
  {
   "cell_type": "code",
   "execution_count": 56,
   "id": "58ea2bba-5efd-48fc-8a0c-9e3c926a0538",
   "metadata": {},
   "outputs": [],
   "source": [
    "# Load the schema from the JSON file\n",
    "with open(MIGRATION_TABLE_SCHEMA_PATH, 'r') as file:\n",
    "    schema = json.load(file)\n",
    "\n",
    "# Define a function to convert data types based on the schema\n",
    "def convert_data_types(row, schema):\n",
    "    converted_row = {}\n",
    "    for field in schema['fields']:\n",
    "        field_name = field['name']\n",
    "        field_type = field['type']\n",
    "        if field_name in row:\n",
    "            if field_type == 'int':\n",
    "                converted_row[field_name] = int(row[field_name])\n",
    "            elif field_type == 'string':\n",
    "                converted_row[field_name] = str(row[field_name])\n",
    "            # Add more type conversions as needed\n",
    "            else:\n",
    "                converted_row[field_name] = row[field_name]  # Keep as is if type not recognized\n",
    "    return converted_row\n",
    "\n",
    "# Read the input data, apply conversion, and process it\n",
    "converted_data = []\n",
    "\n",
    "with open(MIGRATION_TABLE_PATH, 'r') as csvfile:\n",
    "    reader = csv.DictReader(csvfile)\n",
    "    for row in reader:\n",
    "        converted_row = convert_data_types(row, schema)\n",
    "        converted_data.append(converted_row)"
   ]
  },
  {
   "cell_type": "code",
   "execution_count": 58,
   "id": "eecff0fa-3891-419d-835c-28ad403abf85",
   "metadata": {},
   "outputs": [
    {
     "data": {
      "text/html": [
       "<div>\n",
       "<style scoped>\n",
       "    .dataframe tbody tr th:only-of-type {\n",
       "        vertical-align: middle;\n",
       "    }\n",
       "\n",
       "    .dataframe tbody tr th {\n",
       "        vertical-align: top;\n",
       "    }\n",
       "\n",
       "    .dataframe thead th {\n",
       "        text-align: right;\n",
       "    }\n",
       "</style>\n",
       "<table border=\"1\" class=\"dataframe\">\n",
       "  <thead>\n",
       "    <tr style=\"text-align: right;\">\n",
       "      <th></th>\n",
       "      <th>Year</th>\n",
       "      <th>ChangeType</th>\n",
       "      <th>PopChange</th>\n",
       "    </tr>\n",
       "  </thead>\n",
       "  <tbody>\n",
       "    <tr>\n",
       "      <th>0</th>\n",
       "      <td>2010</td>\n",
       "      <td>Domestic Migration</td>\n",
       "      <td>-103</td>\n",
       "    </tr>\n",
       "    <tr>\n",
       "      <th>1</th>\n",
       "      <td>2010</td>\n",
       "      <td>International Migration</td>\n",
       "      <td>1000</td>\n",
       "    </tr>\n",
       "    <tr>\n",
       "      <th>2</th>\n",
       "      <td>2011</td>\n",
       "      <td>Domestic Migration</td>\n",
       "      <td>2939</td>\n",
       "    </tr>\n",
       "    <tr>\n",
       "      <th>3</th>\n",
       "      <td>2011</td>\n",
       "      <td>International Migration</td>\n",
       "      <td>4642</td>\n",
       "    </tr>\n",
       "    <tr>\n",
       "      <th>4</th>\n",
       "      <td>2012</td>\n",
       "      <td>Domestic Migration</td>\n",
       "      <td>4585</td>\n",
       "    </tr>\n",
       "  </tbody>\n",
       "</table>\n",
       "</div>"
      ],
      "text/plain": [
       "   Year               ChangeType  PopChange\n",
       "0  2010       Domestic Migration       -103\n",
       "1  2010  International Migration       1000\n",
       "2  2011       Domestic Migration       2939\n",
       "3  2011  International Migration       4642\n",
       "4  2012       Domestic Migration       4585"
      ]
     },
     "execution_count": 58,
     "metadata": {},
     "output_type": "execute_result"
    }
   ],
   "source": [
    "# Preview migration change type table\n",
    "df = pd.read_csv(MIGRATION_TABLE_PATH)\n",
    "df.head()"
   ]
  },
  {
   "cell_type": "markdown",
   "id": "9ad5a145-438b-455e-8b2b-ca260f9de881",
   "metadata": {
    "jp-MarkdownHeadingCollapsed": true
   },
   "source": [
    "## Creating population change type table and schema"
   ]
  },
  {
   "cell_type": "markdown",
   "id": "b08ab266-c1f6-487c-820a-e4aabb3b95b4",
   "metadata": {},
   "source": [
    "### Aggregation for population change type table"
   ]
  },
  {
   "cell_type": "code",
   "execution_count": 59,
   "id": "dac35a5a-5b86-401f-99b4-1cd6695afc8f",
   "metadata": {},
   "outputs": [],
   "source": [
    "# Melt the DataFrame to \"unpivot\" the Total_NaturalChg and Total_NetMig columns\n",
    "popChange_data = pd.melt(data, id_vars=['Year'], value_vars=['Total_NaturalChg', 'Total_NetMig'], var_name='ChangeType', value_name='PopChange')\n",
    "\n",
    "# Replace 'Total_NaturalChg' and 'Total_NetMig' with 'NatChange' and 'Migration' respectively in the 'ChangeType' column\n",
    "popChange_data['ChangeType'] = popChange_data['ChangeType'].map({'Total_NaturalChg': 'NatChange', 'Total_NetMig': 'Migration'})\n",
    "\n",
    "# Sort by 'Year'\n",
    "popChange_data_sorted = popChange_data.sort_values(by='Year')\n",
    "\n",
    "popChange_data_sorted['ChangeType'] = popChange_data_sorted['ChangeType'].replace('NatChange', 'Natural Change')\n",
    "\n",
    "# Save the 'grouped_data' DataFrame to output directory\n",
    "popChange_data_sorted.to_csv(POPCHANGE_TABLE_PATH, index=False)"
   ]
  },
  {
   "cell_type": "markdown",
   "id": "c22caf0f-1100-406d-b078-1d7611e31f30",
   "metadata": {},
   "source": [
    "### Creating population change type table type schema"
   ]
  },
  {
   "cell_type": "code",
   "execution_count": 60,
   "id": "f935276f-753b-4aaa-ae8a-8af95a8b1796",
   "metadata": {},
   "outputs": [],
   "source": [
    "# Create table\n",
    "table = Table(POPCHANGE_TABLE_PATH)\n",
    "\n",
    "# Infer table variable types\n",
    "table.infer()\n",
    "\n",
    "# Convert missing values to 'N/A'\n",
    "table.schema.descriptor['missingValues'] = 'N/A'\n",
    "table.schema.commit()\n",
    "\n",
    "# Save schema\n",
    "table.schema.save(POPCHANGE_TABLE_SCHEMA_PATH)"
   ]
  },
  {
   "cell_type": "markdown",
   "id": "15db9d70-dd42-42f5-abc8-3352bed1ff13",
   "metadata": {},
   "source": [
    "### Converting population change table variables from schema"
   ]
  },
  {
   "cell_type": "code",
   "execution_count": 61,
   "id": "ac5c26e1-dc51-4913-b078-53a19eb4b8a9",
   "metadata": {},
   "outputs": [],
   "source": [
    "# Load the schema from the JSON file\n",
    "with open(POPCHANGE_TABLE_SCHEMA_PATH, 'r') as file:\n",
    "    schema = json.load(file)\n",
    "\n",
    "# Define a function to convert data types based on the schema\n",
    "def convert_data_types(row, schema):\n",
    "    converted_row = {}\n",
    "    for field in schema['fields']:\n",
    "        field_name = field['name']\n",
    "        field_type = field['type']\n",
    "        if field_name in row:\n",
    "            if field_type == 'int':\n",
    "                converted_row[field_name] = int(row[field_name])\n",
    "            elif field_type == 'string':\n",
    "                converted_row[field_name] = str(row[field_name])\n",
    "            # Add more type conversions as needed\n",
    "            else:\n",
    "                converted_row[field_name] = row[field_name]  # Keep as is if type not recognized\n",
    "    return converted_row\n",
    "\n",
    "# Read the input data, apply conversion, and process it\n",
    "converted_data = []\n",
    "\n",
    "with open(POPCHANGE_TABLE_PATH, 'r') as csvfile:\n",
    "    reader = csv.DictReader(csvfile)\n",
    "    for row in reader:\n",
    "        converted_row = convert_data_types(row, schema)\n",
    "        converted_data.append(converted_row)"
   ]
  },
  {
   "cell_type": "code",
   "execution_count": 62,
   "id": "bdc6ef86-3749-4848-addd-1f003efc147a",
   "metadata": {},
   "outputs": [
    {
     "data": {
      "text/html": [
       "<div>\n",
       "<style scoped>\n",
       "    .dataframe tbody tr th:only-of-type {\n",
       "        vertical-align: middle;\n",
       "    }\n",
       "\n",
       "    .dataframe tbody tr th {\n",
       "        vertical-align: top;\n",
       "    }\n",
       "\n",
       "    .dataframe thead th {\n",
       "        text-align: right;\n",
       "    }\n",
       "</style>\n",
       "<table border=\"1\" class=\"dataframe\">\n",
       "  <thead>\n",
       "    <tr style=\"text-align: right;\">\n",
       "      <th></th>\n",
       "      <th>Year</th>\n",
       "      <th>ChangeType</th>\n",
       "      <th>PopChange</th>\n",
       "    </tr>\n",
       "  </thead>\n",
       "  <tbody>\n",
       "    <tr>\n",
       "      <th>0</th>\n",
       "      <td>2010</td>\n",
       "      <td>Natural Change</td>\n",
       "      <td>2847</td>\n",
       "    </tr>\n",
       "    <tr>\n",
       "      <th>1</th>\n",
       "      <td>2010</td>\n",
       "      <td>Migration</td>\n",
       "      <td>897</td>\n",
       "    </tr>\n",
       "    <tr>\n",
       "      <th>2</th>\n",
       "      <td>2011</td>\n",
       "      <td>Natural Change</td>\n",
       "      <td>10448</td>\n",
       "    </tr>\n",
       "    <tr>\n",
       "      <th>3</th>\n",
       "      <td>2011</td>\n",
       "      <td>Migration</td>\n",
       "      <td>7581</td>\n",
       "    </tr>\n",
       "    <tr>\n",
       "      <th>4</th>\n",
       "      <td>2012</td>\n",
       "      <td>Natural Change</td>\n",
       "      <td>10768</td>\n",
       "    </tr>\n",
       "  </tbody>\n",
       "</table>\n",
       "</div>"
      ],
      "text/plain": [
       "   Year      ChangeType  PopChange\n",
       "0  2010  Natural Change       2847\n",
       "1  2010       Migration        897\n",
       "2  2011  Natural Change      10448\n",
       "3  2011       Migration       7581\n",
       "4  2012  Natural Change      10768"
      ]
     },
     "execution_count": 62,
     "metadata": {},
     "output_type": "execute_result"
    }
   ],
   "source": [
    "# Preview population change type table\n",
    "df = pd.read_csv(POPCHANGE_TABLE_PATH)\n",
    "df.head()"
   ]
  },
  {
   "cell_type": "markdown",
   "id": "a65b2797-9310-4eac-8d2e-2ff378dd205d",
   "metadata": {
    "jp-MarkdownHeadingCollapsed": true
   },
   "source": [
    "## Writing data and charts to Excel file"
   ]
  },
  {
   "cell_type": "code",
   "execution_count": 63,
   "id": "634901f7-0b78-4102-860d-7026b61815b7",
   "metadata": {},
   "outputs": [],
   "source": [
    "# Create a Pandas Excel writer using XlsxWriter as the engine.\n",
    "writer = pd.ExcelWriter(OUTPUT_TABLE_PATH, engine='xlsxwriter')    \n",
    "\n",
    "# Read the CSV files\n",
    "popchange_df = pd.read_csv(POPCHANGE_TABLE_PATH)\n",
    "migration_df = pd.read_csv(MIGRATION_TABLE_PATH)\n",
    "\n",
    "# Pivot the DataFrames\n",
    "popchange_pivot = popchange_df.pivot(index='Year', columns='ChangeType', values='PopChange').reset_index()\n",
    "migration_pivot = migration_df.pivot(index='Year', columns='ChangeType', values='PopChange').reset_index()\n",
    "\n",
    "# Write the pivoted DataFrames to separate sheets\n",
    "popchange_pivot.to_excel(writer, sheet_name='Population Change by Type', index=False)\n",
    "migration_pivot.to_excel(writer, sheet_name='Migration Change by Type', index=False)\n",
    "\n",
    "workbook = writer.book\n",
    "\n",
    "# Helper function to add charts\n",
    "def add_stacked_bar_chart(worksheet_name, dataframe, workbook):\n",
    "    worksheet = writer.sheets[worksheet_name]\n",
    "    chart = workbook.add_chart({'type': 'column', 'subtype': 'stacked'})\n",
    "    \n",
    "    for i in range(1, len(dataframe.columns)):\n",
    "        chart.add_series({\n",
    "            'name':       [worksheet_name, 0, i],\n",
    "            'categories': [worksheet_name, 1, 0, len(dataframe), 0],\n",
    "            'values':     [worksheet_name, 1, i, len(dataframe), i],\n",
    "        })\n",
    "    \n",
    "    chart.set_title({'name': worksheet_name})\n",
    "    chart.set_x_axis({'name': 'Year'})\n",
    "    chart.set_y_axis({'name': 'Population Change', 'major_gridlines': {'visible': False}})\n",
    "    chart.set_legend({\n",
    "        'position': 'bottom',\n",
    "        'font': {'name': 'Arial'}    \n",
    "    })\n",
    "    worksheet.set_column('A:A', 15)\n",
    "    worksheet.insert_chart('G2', chart)\n",
    "\n",
    "# Add charts for each sheet\n",
    "add_stacked_bar_chart('Population Change by Type', popchange_pivot, workbook)\n",
    "add_stacked_bar_chart('Migration Change by Type', migration_pivot, workbook)\n",
    "\n",
    "\n",
    "# Close the Pandas Excel writer and output the Excel file\n",
    "writer.close()"
   ]
  },
  {
   "cell_type": "markdown",
   "id": "365bb68e-f88d-4a13-9334-9ef4961685a2",
   "metadata": {
    "jp-MarkdownHeadingCollapsed": true
   },
   "source": [
    "## Creating Charts"
   ]
  },
  {
   "cell_type": "markdown",
   "id": "f3c75525-b928-4ae2-8154-6aeab2d78835",
   "metadata": {},
   "source": [
    "### Creating stacked bar chart for migration type"
   ]
  },
  {
   "cell_type": "code",
   "execution_count": 64,
   "id": "a6c3ca36-9f69-4cf3-9df6-25b97ea490f1",
   "metadata": {},
   "outputs": [
    {
     "data": {
      "image/png": "[encoded data removed]",
      "text/plain": [
       "<Figure size 1000x600 with 1 Axes>"
      ]
     },
     "metadata": {},
     "output_type": "display_data"
    }
   ],
   "source": [
    "# Pivot the DataFrame to have 'Year' as the index, 'ChangeType' as the columns, and 'PopChange' as the values\n",
    "pivoted_migration_data = migration_data_sorted.pivot(index='Year', columns='ChangeType', values='PopChange').fillna(0)\n",
    "\n",
    "# Rename the columns for the legend\n",
    "pivoted_migration_data.columns = ['Domestic Migration', 'International Migration']\n",
    "\n",
    "# Plot the stacked bar chart\n",
    "ax=pivoted_migration_data.plot(kind='bar', stacked=True, figsize=(10, 6))\n",
    "\n",
    "# Adding labels to each bar, omitting labels for values less than 1.5K\n",
    "for container in ax.containers:\n",
    "    labels = [f'{x/1000:.1f}K' if abs(x) >= 1500 else '' for x in container.datavalues]\n",
    "    ax.bar_label(container, labels=labels, label_type='center')\n",
    "plt.title('MIGRATION BY TYPE')\n",
    "\n",
    "# Show the plot\n",
    "plt.show()"
   ]
  },
  {
   "cell_type": "markdown",
   "id": "bfde0a27-8bc5-45bb-9b1c-f5ced8adedbc",
   "metadata": {},
   "source": [
    "### Creating stacked bar chart for population change type"
   ]
  },
  {
   "cell_type": "code",
   "execution_count": 65,
   "id": "2206b02a-7938-45f3-b382-6b53630e04dd",
   "metadata": {},
   "outputs": [
    {
     "data": {
      "image/png": "[encoded data removed]",
      "text/plain": [
       "<Figure size 1000x600 with 1 Axes>"
      ]
     },
     "metadata": {},
     "output_type": "display_data"
    }
   ],
   "source": [
    "# Pivot the DataFrame to have 'Year' as the index, 'ChangeType' as the columns, and 'PopChange' as the values\n",
    "pivoted_popChange_data = popChange_data_sorted.pivot(index='Year', columns='ChangeType', values='PopChange').fillna(0)\n",
    "\n",
    "# Rename the columns for the legend\n",
    "pivoted_popChange_data.columns = ['Migration', 'Natural Change']\n",
    "\n",
    "# Plot the stacked bar chart\n",
    "ax= pivoted_popChange_data.plot(kind='bar', stacked=True, figsize=(10, 6))\n",
    "\n",
    "# Adding labels to each bar, omitting labels for values less than 1.5K\n",
    "for container in ax.containers:\n",
    "    labels = [f'{x/1000:.1f}K' if abs(x) >= 1500 else '' for x in container.datavalues]\n",
    "    ax.bar_label(container, labels=labels, label_type='center')\n",
    "\n",
    "plt.title('POPULATION CHANGE BY TYPE')\n",
    "\n",
    "# Show the plot\n",
    "plt.show()"
   ]
  },
  {
   "cell_type": "code",
   "execution_count": null,
   "id": "f6afc3eb-66b3-49fe-981d-cbbc249f65fb",
   "metadata": {},
   "outputs": [],
   "source": []
  }
 ],
 "metadata": {
  "kernelspec": {
   "display_name": "Python 3 (ipykernel)",
   "language": "python",
   "name": "python3"
  },
  "language_info": {
   "codemirror_mode": {
    "name": "ipython",
    "version": 3
   },
   "file_extension": ".py",
   "mimetype": "text/x-python",
   "name": "python",
   "nbconvert_exporter": "python",
   "pygments_lexer": "ipython3",
   "version": "3.12.2"
  }
 },
 "nbformat": 4,
 "nbformat_minor": 5
}
