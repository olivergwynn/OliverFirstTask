{
 "cells": [
  {
   "cell_type": "markdown",
   "id": "6f1be131-0e7a-46fd-bdaa-88749cd50147",
   "metadata": {},
   "source": [
    "# Aggregating Population Change and Migration Types for Franklin and Delaware Counties from Census PEP data"
   ]
  },
  {
   "cell_type": "markdown",
   "id": "6153bc9a-624c-45d4-a184-5864723f97ec",
   "metadata": {},
   "source": [
    "## Introduction"
   ]
  },
  {
   "cell_type": "markdown",
   "id": "24a36257-3292-4f33-a770-7bcc5f6c7f1e",
   "metadata": {},
   "source": [
    "This script is meant to take county-wide Census Pep data and filter for Franklin and Delaware from 2010-2021 and output two new agregated tables, one to focus on migration type and the other population change type, where the trends between the counties are combined."
   ]
  },
  {
   "cell_type": "markdown",
   "id": "b824221f-9be1-4045-90e5-809aa62bbd4d",
   "metadata": {},
   "source": [
    "### Process outline"
   ]
  },
  {
   "cell_type": "markdown",
   "id": "21df8ec3-9b54-4609-b1c0-b245fd0717cd",
   "metadata": {},
   "source": [
    "The process carried out by this workflow can be described as follows:\n",
    "  - The script will retrieve the Census PEP datasets from the local MORPC repo\n",
    "  - Filter to only retain and sum records from Franklin or Delawre, Ohio 2010-2021\n",
    "  - Identify and keep only the rows containing the maximum 'Vintage' for each 'Year'\n",
    "  - Transform tables to aggregate migration information by type and aggregate population change information by type.\n",
    "  - Write aggregated tables and stacked bar charts to Excel to distingush between international and domestic migration and another to distinguish between natrual population change and net migration"
   ]
  },
  {
   "cell_type": "markdown",
   "id": "03bf7a31-2bc4-4fcd-be64-a3f7219a17cf",
   "metadata": {},
   "source": [
    "## Setup"
   ]
  },
  {
   "cell_type": "markdown",
   "id": "5510cf59-c66f-4d79-b147-c52b74bde80b",
   "metadata": {},
   "source": [
    "### Import required packages"
   ]
  },
  {
   "cell_type": "code",
   "execution_count": 2,
   "id": "405b3b7f-7699-4439-ae71-7a66e19d6def",
   "metadata": {},
   "outputs": [],
   "source": [
    "import csv\n",
    "import os\n",
    "import shutil\n",
    "import json\n",
    "from tableschema import Table\n",
    "import pandas as pd\n",
    "import matplotlib.pyplot as plt\n",
    "from pprint import pprint\n",
    "from frictionless import Detector, describe, validate, Schema\n",
    "import sys\n",
    "sys.path.append(os.path.normpath(\"../morpc-common\"))\n",
    "import morpc"
   ]
  },
  {
   "cell_type": "markdown",
   "id": "4ecac21c-1d39-49c0-9619-56391e211c65",
   "metadata": {},
   "source": [
    "### Parameters"
   ]
  },
  {
   "cell_type": "code",
   "execution_count": 3,
   "id": "ef04f68c-17a2-4e6a-b0de-b103a1519032",
   "metadata": {
    "scrolled": true
   },
   "outputs": [],
   "source": [
    "# Assign a color to each of the expected bars in the chart using hex codes.\n",
    "BAR_COLORS={\n",
    "        \"DOMESTICMIG\":morpc.CONST_MORPC_COLORS[\"midblue\"],\n",
    "        \"NETMIG\":morpc.CONST_MORPC_COLORS[\"midblue\"],\n",
    "        \"NATURALCHG\":morpc.CONST_MORPC_COLORS[\"bluegreen\"],\n",
    "        \"INTERNATIONALMIG\":morpc.CONST_MORPC_COLORS[\"bluegreen\"] \n",
    "}\n",
    "# Specify the number formatting string to be used on the y-axis of the charts\n",
    "# NUMBER_FORMAT_STRING = '[>=1000]#,##0,\"K\";'\n",
    "\n",
    "# Define input and output directories\n",
    "INPUT_DIR = \"./input_data\"\n",
    "OUTPUT_DIR = \"./output_data\""
   ]
  },
  {
   "cell_type": "markdown",
   "id": "2ea3f404-c235-4228-ba92-32cc95346e0b",
   "metadata": {
    "jp-MarkdownHeadingCollapsed": true
   },
   "source": [
    "### Define inputs"
   ]
  },
  {
   "cell_type": "markdown",
   "id": "b5be85f9-6236-4777-be85-9aa5e36ffc9f",
   "metadata": {},
   "source": [
    "#### Census Pep country wide table"
   ]
  },
  {
   "cell_type": "code",
   "execution_count": 4,
   "id": "f34170c8-139f-41f9-8d8a-c90825fe7fde",
   "metadata": {},
   "outputs": [
    {
     "name": "stdout",
     "output_type": "stream",
     "text": [
      "Data: ./input_data\\censusPep_county_wide.csv\n",
      "Schema: ./input_data\\censusPep_county_wide_schema.json\n",
      "Metadata: ./input_data\\censusPep_county_wide_metadata.yaml\n"
     ]
    }
   ],
   "source": [
    "CENSUSPEP_COUNTY_WIDE_TABLE_FILENAME = \"censusPep_county_wide.csv\"\n",
    "CENSUSPEP_COUNTY_WIDE_TABLE_PATH = os.path.join(INPUT_DIR, CENSUSPEP_COUNTY_WIDE_TABLE_FILENAME)\n",
    "CENSUSPEP_COUNTY_WIDE_TABLE_SCHEMA_FILENAME = CENSUSPEP_COUNTY_WIDE_TABLE_FILENAME.replace(\".csv\",\"_schema.json\")\n",
    "CENSUSPEP_COUNTY_WIDE_TABLE_SCHEMA_PATH = os.path.join(INPUT_DIR, CENSUSPEP_COUNTY_WIDE_TABLE_SCHEMA_FILENAME)\n",
    "CENSUSPEP_COUNTY_WIDE_TABLE_METADATA_FILENAME = CENSUSPEP_COUNTY_WIDE_TABLE_FILENAME.replace(\".csv\",\"_metadata.yaml\")\n",
    "CENSUSPEP_COUNTY_WIDE_TABLE_METADATA_PATH = os.path.join(INPUT_DIR, CENSUSPEP_COUNTY_WIDE_TABLE_METADATA_FILENAME)\n",
    "print(\"Data: {}\".format(CENSUSPEP_COUNTY_WIDE_TABLE_PATH))\n",
    "print(\"Schema: {}\".format(CENSUSPEP_COUNTY_WIDE_TABLE_SCHEMA_PATH))\n",
    "print(\"Metadata: {}\".format(CENSUSPEP_COUNTY_WIDE_TABLE_METADATA_PATH))"
   ]
  },
  {
   "cell_type": "markdown",
   "id": "4bf33502-f8cc-4869-8055-8d0027a8ac4d",
   "metadata": {
    "jp-MarkdownHeadingCollapsed": true
   },
   "source": [
    "### Define outputs"
   ]
  },
  {
   "cell_type": "markdown",
   "id": "dd726bcd-8d4e-4608-b2ea-3bfd5a67739f",
   "metadata": {},
   "source": [
    "#### Franklin and Delaware counties migration by type and year (2010-2021)"
   ]
  },
  {
   "cell_type": "code",
   "execution_count": 5,
   "id": "b62955be-728f-455d-8f5c-ff1c7c9a3d91",
   "metadata": {
    "scrolled": true
   },
   "outputs": [
    {
     "name": "stdout",
     "output_type": "stream",
     "text": [
      "Data: ./output_data\\migration_aggregated_data.csv\n",
      "Schema: ./output_data\\migration_aggregated_data_schema.json\n",
      "Metadata: ./output_data\\migration_aggregated_data_metadata.yaml\n"
     ]
    }
   ],
   "source": [
    "MIGRATION_TABLE_FILENAME = \"migration_aggregated_data.csv\"\n",
    "MIGRATION_TABLE_PATH = os.path.join(OUTPUT_DIR, MIGRATION_TABLE_FILENAME)\n",
    "MIGRATION_TABLE_SCHEMA_FILENAME = MIGRATION_TABLE_FILENAME.replace(\".csv\",\"_schema.json\")\n",
    "MIGRATION_TABLE_SCHEMA_PATH = os.path.join(OUTPUT_DIR, MIGRATION_TABLE_SCHEMA_FILENAME)\n",
    "MIGRATION_TABLE_METADATA_FILENAME = MIGRATION_TABLE_FILENAME.replace(\".csv\",\"_metadata.yaml\")\n",
    "MIGRATION_TABLE_METADATA_PATH = os.path.join(OUTPUT_DIR, MIGRATION_TABLE_METADATA_FILENAME)\n",
    "print(\"Data: {}\".format(MIGRATION_TABLE_PATH))\n",
    "print(\"Schema: {}\".format(MIGRATION_TABLE_SCHEMA_PATH))\n",
    "print(\"Metadata: {}\".format(MIGRATION_TABLE_METADATA_PATH))"
   ]
  },
  {
   "cell_type": "markdown",
   "id": "41d49e12-0432-4e4f-9263-af4b7da04f13",
   "metadata": {},
   "source": [
    "#### Franklin and Delaware counties population change by type and year (2010-2021)"
   ]
  },
  {
   "cell_type": "code",
   "execution_count": 6,
   "id": "6c459ff3-6ecc-47e9-9d33-8fb97e7f978c",
   "metadata": {},
   "outputs": [
    {
     "name": "stdout",
     "output_type": "stream",
     "text": [
      "Data: ./output_data\\popChange_aggregated_data.csv\n",
      "Schema: ./output_data\\popChange_aggregated_data_schema.json\n",
      "Metadata: ./output_data\\popChange_aggregated_data_metadata.yaml\n"
     ]
    }
   ],
   "source": [
    "POPCHANGE_TABLE_FILENAME = \"popChange_aggregated_data.csv\"\n",
    "POPCHANGE_TABLE_PATH = os.path.join(OUTPUT_DIR, POPCHANGE_TABLE_FILENAME)\n",
    "POPCHANGE_TABLE_SCHEMA_FILENAME = POPCHANGE_TABLE_FILENAME.replace(\".csv\",\"_schema.json\")\n",
    "POPCHANGE_TABLE_SCHEMA_PATH = os.path.join(OUTPUT_DIR, POPCHANGE_TABLE_SCHEMA_FILENAME)\n",
    "POPCHANGE_TABLE_METADATA_FILENAME = POPCHANGE_TABLE_FILENAME.replace(\".csv\",\"_metadata.yaml\")\n",
    "POPCHANGE_TABLE_METADATA_PATH = os.path.join(OUTPUT_DIR, POPCHANGE_TABLE_METADATA_FILENAME)\n",
    "print(\"Data: {}\".format(POPCHANGE_TABLE_PATH))\n",
    "print(\"Schema: {}\".format(POPCHANGE_TABLE_SCHEMA_PATH))\n",
    "print(\"Metadata: {}\".format(POPCHANGE_TABLE_METADATA_PATH))"
   ]
  },
  {
   "cell_type": "markdown",
   "id": "53124e0c-6bae-42da-ba9f-7203393957b5",
   "metadata": {},
   "source": [
    "#### Compiled Excel sheet"
   ]
  },
  {
   "cell_type": "code",
   "execution_count": 7,
   "id": "86f4ffce-d3ae-449d-ba46-4ad0745daf01",
   "metadata": {},
   "outputs": [
    {
     "name": "stdout",
     "output_type": "stream",
     "text": [
      "Output data path: ./output_data\\compiled.xlsx\n"
     ]
    }
   ],
   "source": [
    "OUTPUT_TABLE_FILENAME = \"compiled.xlsx\"\n",
    "OUTPUT_TABLE_PATH = os.path.join(OUTPUT_DIR, OUTPUT_TABLE_FILENAME)\n",
    "print(\"Output data path: {}\".format(OUTPUT_TABLE_PATH))"
   ]
  },
  {
   "cell_type": "markdown",
   "id": "752ef894-58af-4ac8-99be-ea5f016b76fb",
   "metadata": {},
   "source": [
    "## Create Census Pep table and schema in input path"
   ]
  },
  {
   "cell_type": "markdown",
   "id": "3d4c8e95-4530-466e-b160-9756d113fa63",
   "metadata": {
    "jp-MarkdownHeadingCollapsed": true
   },
   "source": [
    "### Validating Census Pep country wide table"
   ]
  },
  {
   "cell_type": "code",
   "execution_count": 8,
   "id": "5150a81f-2168-4963-9e01-438ab1106798",
   "metadata": {},
   "outputs": [
    {
     "name": "stdout",
     "output_type": "stream",
     "text": [
      "{'name': 'memory',\n",
      " 'type': 'table',\n",
      " 'data': [],\n",
      " 'format': 'pandas',\n",
      " 'mediatype': 'application/pandas',\n",
      " 'schema': {'fields': [{'name': 'GEOID',\n",
      "                        'type': 'integer',\n",
      "                        'constraints': {'required': True}},\n",
      "                       {'name': 'STNAME', 'type': 'string'},\n",
      "                       {'name': 'CTYNAME', 'type': 'string'},\n",
      "                       {'name': 'Year', 'type': 'integer'},\n",
      "                       {'name': 'Vintage', 'type': 'integer'},\n",
      "                       {'name': 'BIRTHS', 'type': 'integer'},\n",
      "                       {'name': 'DEATHS', 'type': 'integer'},\n",
      "                       {'name': 'DOMESTICMIG', 'type': 'integer'},\n",
      "                       {'name': 'INTERNATIONALMIG', 'type': 'integer'},\n",
      "                       {'name': 'NATURALCHG', 'type': 'integer'},\n",
      "                       {'name': 'NETMIG', 'type': 'integer'},\n",
      "                       {'name': 'NPOPCHG', 'type': 'integer'},\n",
      "                       {'name': 'POPESTIMATE', 'type': 'integer'},\n",
      "                       {'name': 'RESIDUAL', 'type': 'integer'}],\n",
      "            'primaryKey': ['GEOID']}}\n",
      "name: memory\n",
      "type: table\n",
      "data: []\n",
      "format: pandas\n",
      "mediatype: application/pandas\n",
      "schema:\n",
      "  fields:\n",
      "    - name: GEOID\n",
      "      type: integer\n",
      "      constraints:\n",
      "        required: true\n",
      "    - name: STNAME\n",
      "      type: string\n",
      "    - name: CTYNAME\n",
      "      type: string\n",
      "    - name: Year\n",
      "      type: integer\n",
      "    - name: Vintage\n",
      "      type: integer\n",
      "    - name: BIRTHS\n",
      "      type: integer\n",
      "    - name: DEATHS\n",
      "      type: integer\n",
      "    - name: DOMESTICMIG\n",
      "      type: integer\n",
      "    - name: INTERNATIONALMIG\n",
      "      type: integer\n",
      "    - name: NATURALCHG\n",
      "      type: integer\n",
      "    - name: NETMIG\n",
      "      type: integer\n",
      "    - name: NPOPCHG\n",
      "      type: integer\n",
      "    - name: POPESTIMATE\n",
      "      type: integer\n",
      "    - name: RESIDUAL\n",
      "      type: integer\n",
      "  primaryKey:\n",
      "    - GEOID\n",
      "\n",
      "[[None, None, 'source-error']]\n"
     ]
    }
   ],
   "source": [
    "# Adjust the path to where the .csv table and .json schema are located\n",
    "table_path = \"../morpc-censuspep-fetch/output_data/censusPep_county_wide.csv\"\n",
    "\n",
    "# Read the CSV file into a DataFrame\n",
    "data = pd.read_csv(table_path, index_col=0)\n",
    "\n",
    "# Identify columns with no names (empty strings or NaN) and drop them\n",
    "data = data.loc[:, data.columns[data.columns != '']]\n",
    "\n",
    "# Preview data with frictionless\n",
    "resource = describe(data)\n",
    "pprint(resource)\n",
    "\n",
    "# Detect missing values in table\n",
    "detector = Detector(field_missing_values=[\"\", \"n/a\"])\n",
    "resource = describe(data, detector=detector)\n",
    "resource.to_yaml(CENSUSPEP_COUNTY_WIDE_TABLE_METADATA_PATH)\n",
    "with open(CENSUSPEP_COUNTY_WIDE_TABLE_METADATA_PATH) as file:\n",
    "    print(file.read())\n",
    "\n",
    "# Validate data\n",
    "report = validate(CENSUSPEP_COUNTY_WIDE_TABLE_METADATA_PATH)\n",
    "pprint(report.flatten([\"rowNumber\", \"fieldNumber\", \"type\"]))"
   ]
  },
  {
   "cell_type": "code",
   "execution_count": 9,
   "id": "ab146804-93c0-4cb5-85de-ce9d2b4b1276",
   "metadata": {},
   "outputs": [
    {
     "name": "stdout",
     "output_type": "stream",
     "text": [
      "[]\n"
     ]
    }
   ],
   "source": [
    "# Save the census data to the input directory\n",
    "data.to_csv(CENSUSPEP_COUNTY_WIDE_TABLE_PATH)\n",
    "\n",
    "# Validate saved .csv\n",
    "report = validate(CENSUSPEP_COUNTY_WIDE_TABLE_PATH)\n",
    "pprint(report.flatten([\"rowNumber\", \"fieldNumber\", \"type\"]))"
   ]
  },
  {
   "cell_type": "markdown",
   "id": "344c99c2-621b-41df-9ac3-de946bd3488e",
   "metadata": {
    "jp-MarkdownHeadingCollapsed": true
   },
   "source": [
    "### Creating Census Pep country wide table schema to input directory with Table Schema"
   ]
  },
  {
   "cell_type": "code",
   "execution_count": 10,
   "id": "d5f8c0fd-909d-4a2b-80b9-f08be5fc80ee",
   "metadata": {
    "scrolled": true
   },
   "outputs": [
    {
     "name": "stdout",
     "output_type": "stream",
     "text": [
      "fields:\n",
      "  - name: GEOID\n",
      "    type: integer\n",
      "    constraints:\n",
      "      required: true\n",
      "  - name: STNAME\n",
      "    type: string\n",
      "  - name: CTYNAME\n",
      "    type: string\n",
      "  - name: Year\n",
      "    type: integer\n",
      "  - name: Vintage\n",
      "    type: integer\n",
      "  - name: BIRTHS\n",
      "    type: integer\n",
      "  - name: DEATHS\n",
      "    type: integer\n",
      "  - name: DOMESTICMIG\n",
      "    type: integer\n",
      "  - name: INTERNATIONALMIG\n",
      "    type: integer\n",
      "  - name: NATURALCHG\n",
      "    type: integer\n",
      "  - name: NETMIG\n",
      "    type: integer\n",
      "  - name: NPOPCHG\n",
      "    type: integer\n",
      "  - name: POPESTIMATE\n",
      "    type: integer\n",
      "  - name: RESIDUAL\n",
      "    type: integer\n",
      "primaryKey:\n",
      "  - GEOID\n",
      "\n"
     ]
    }
   ],
   "source": [
    "# Table Schema using Frictionless\n",
    "schema = Schema.describe(data)\n",
    "schema.to_yaml(CENSUSPEP_COUNTY_WIDE_TABLE_METADATA_PATH)\n",
    "\n",
    "with open(CENSUSPEP_COUNTY_WIDE_TABLE_METADATA_PATH) as file:\n",
    "    print(file.read())\n",
    "\n",
    "# Create table\n",
    "table = Table(CENSUSPEP_COUNTY_WIDE_TABLE_PATH)\n",
    "\n",
    "# Infer table variable types\n",
    "table.infer()\n",
    "\n",
    "# Convert missing values to 'N/A'\n",
    "table.schema.descriptor['missingValues'] = ['N/A', '']\n",
    "table.schema.commit()\n",
    "\n",
    "# Save schema\n",
    "table.schema.save(CENSUSPEP_COUNTY_WIDE_TABLE_SCHEMA_PATH)"
   ]
  },
  {
   "cell_type": "markdown",
   "id": "fe51194a-d3b5-46af-b37a-07052046f0b1",
   "metadata": {
    "jp-MarkdownHeadingCollapsed": true
   },
   "source": [
    "### Converting input table variables from schema"
   ]
  },
  {
   "cell_type": "code",
   "execution_count": 11,
   "id": "c425e40d-77c1-4dec-8b92-dc07811cb6da",
   "metadata": {},
   "outputs": [],
   "source": [
    "# Load the schema from the JSON file\n",
    "with open(CENSUSPEP_COUNTY_WIDE_TABLE_SCHEMA_PATH, 'r') as file:\n",
    "    schema = json.load(file)\n",
    "\n",
    "# Define a function to convert data types based on the schema\n",
    "def convert_data_types(row, schema):\n",
    "    converted_row = {}\n",
    "    for field in schema['fields']:\n",
    "        field_name = field['name']\n",
    "        field_type = field['type']\n",
    "        if field_name in row:\n",
    "            if field_type == 'int':\n",
    "                converted_row[field_name] = int(row[field_name])\n",
    "            elif field_type == 'string':\n",
    "                converted_row[field_name] = str(row[field_name])\n",
    "            # Add more type conversions as needed\n",
    "            else:\n",
    "                converted_row[field_name] = row[field_name]  # Keep as is if type not recognized\n",
    "    return converted_row\n",
    "\n",
    "# Read the input data, apply conversion, and process it\n",
    "converted_data = []\n",
    "\n",
    "with open(CENSUSPEP_COUNTY_WIDE_TABLE_PATH, 'r') as csvfile:\n",
    "    reader = csv.DictReader(csvfile) #change to pandas\n",
    "    for row in reader:\n",
    "        converted_row = convert_data_types(row, schema)\n",
    "        converted_data.append(converted_row)"
   ]
  },
  {
   "cell_type": "markdown",
   "id": "6d27a3fa-16c9-4dbd-9028-8c62ce76fd07",
   "metadata": {},
   "source": [
    "## Filtering for and combining Franklin, Ohio and Delaware, Ohio 2010-2021 with maximum vintage for each year"
   ]
  },
  {
   "cell_type": "markdown",
   "id": "2810b4a5-c46e-47e7-b31b-6aa81f840c0c",
   "metadata": {},
   "source": [
    "### Filter for maximum vintage for each year"
   ]
  },
  {
   "cell_type": "code",
   "execution_count": 12,
   "id": "d5eb449c-7096-4d9a-ad77-39f192b3eed4",
   "metadata": {},
   "outputs": [],
   "source": [
    "# Step 1: Group by 'Year' and identify the maximum 'Vintage' for each 'Year'\n",
    "max_vintage_per_year = data.groupby('Year')['Vintage'].transform(\"max\")\n",
    "\n",
    "# Step 2: Filter the original DataFrame to keep only rows with the maximum 'Vintage' for their 'Year'\n",
    "data = data[data['Vintage'] == max_vintage_per_year]"
   ]
  },
  {
   "cell_type": "markdown",
   "id": "80c557a5-c2b8-4106-b063-6c14d5cef3bc",
   "metadata": {},
   "source": [
    "### Filter for Ohio"
   ]
  },
  {
   "cell_type": "code",
   "execution_count": 13,
   "id": "6e82d5d7-c1bc-42e2-8bea-0ff19183c7fb",
   "metadata": {},
   "outputs": [],
   "source": [
    "# Filter for STNAME \"Ohio\"\n",
    "data = data[data['STNAME'].isin(['Ohio'])]"
   ]
  },
  {
   "cell_type": "markdown",
   "id": "961ccd1a-b86f-42e3-bf85-7906df82aef7",
   "metadata": {},
   "source": [
    "### Filter for Delaware and Franklin counties"
   ]
  },
  {
   "cell_type": "code",
   "execution_count": 14,
   "id": "d9b087d5-56ee-4e8d-ba45-3ac353327a5a",
   "metadata": {},
   "outputs": [],
   "source": [
    "# Filter for CITYNAME \"Delaware\" and \"Franklin\"\n",
    "data = data[data['CTYNAME'].isin(['Delaware', 'Franklin'])]"
   ]
  },
  {
   "cell_type": "markdown",
   "id": "73dc19f3-43aa-41d8-add5-fbc099238300",
   "metadata": {},
   "source": [
    "### Filter for 2010-2021"
   ]
  },
  {
   "cell_type": "code",
   "execution_count": 15,
   "id": "0746bbb7-bdcc-4d1c-b82b-31a6bb1e7b99",
   "metadata": {},
   "outputs": [],
   "source": [
    "# Filter for Years between 2010-2021\n",
    "data = data[(data['Year'] >= 2010) & (data['Year'] <= 2021)]"
   ]
  },
  {
   "cell_type": "markdown",
   "id": "92643cef-7312-4f27-8ddd-82204c58f090",
   "metadata": {},
   "source": [
    "### Combine records between Franklin and Delaware counties for each year"
   ]
  },
  {
   "cell_type": "code",
   "execution_count": 16,
   "id": "ba42cef8-29a9-43b7-abf3-65aed489893b",
   "metadata": {},
   "outputs": [
    {
     "data": {
      "text/html": [
       "<div>\n",
       "<style scoped>\n",
       "    .dataframe tbody tr th:only-of-type {\n",
       "        vertical-align: middle;\n",
       "    }\n",
       "\n",
       "    .dataframe tbody tr th {\n",
       "        vertical-align: top;\n",
       "    }\n",
       "\n",
       "    .dataframe thead th {\n",
       "        text-align: right;\n",
       "    }\n",
       "</style>\n",
       "<table border=\"1\" class=\"dataframe\">\n",
       "  <thead>\n",
       "    <tr style=\"text-align: right;\">\n",
       "      <th></th>\n",
       "      <th>Year</th>\n",
       "      <th>BIRTHS</th>\n",
       "      <th>DEATHS</th>\n",
       "      <th>DOMESTICMIG</th>\n",
       "      <th>INTERNATIONALMIG</th>\n",
       "      <th>NATURALCHG</th>\n",
       "      <th>NETMIG</th>\n",
       "      <th>NPOPCHG</th>\n",
       "      <th>POPESTIMATE</th>\n",
       "      <th>RESIDUAL</th>\n",
       "    </tr>\n",
       "  </thead>\n",
       "  <tbody>\n",
       "    <tr>\n",
       "      <th>0</th>\n",
       "      <td>2010</td>\n",
       "      <td>5063</td>\n",
       "      <td>2216</td>\n",
       "      <td>-103</td>\n",
       "      <td>1000</td>\n",
       "      <td>2847</td>\n",
       "      <td>897</td>\n",
       "      <td>3653</td>\n",
       "      <td>1341301</td>\n",
       "      <td>-91</td>\n",
       "    </tr>\n",
       "    <tr>\n",
       "      <th>1</th>\n",
       "      <td>2011</td>\n",
       "      <td>19950</td>\n",
       "      <td>9502</td>\n",
       "      <td>2939</td>\n",
       "      <td>4642</td>\n",
       "      <td>10448</td>\n",
       "      <td>7581</td>\n",
       "      <td>18034</td>\n",
       "      <td>1359335</td>\n",
       "      <td>5</td>\n",
       "    </tr>\n",
       "    <tr>\n",
       "      <th>2</th>\n",
       "      <td>2012</td>\n",
       "      <td>20237</td>\n",
       "      <td>9469</td>\n",
       "      <td>4585</td>\n",
       "      <td>5555</td>\n",
       "      <td>10768</td>\n",
       "      <td>10140</td>\n",
       "      <td>20837</td>\n",
       "      <td>1380172</td>\n",
       "      <td>-71</td>\n",
       "    </tr>\n",
       "    <tr>\n",
       "      <th>3</th>\n",
       "      <td>2013</td>\n",
       "      <td>20791</td>\n",
       "      <td>9926</td>\n",
       "      <td>5614</td>\n",
       "      <td>7564</td>\n",
       "      <td>10865</td>\n",
       "      <td>13178</td>\n",
       "      <td>24086</td>\n",
       "      <td>1404258</td>\n",
       "      <td>43</td>\n",
       "    </tr>\n",
       "    <tr>\n",
       "      <th>4</th>\n",
       "      <td>2014</td>\n",
       "      <td>21122</td>\n",
       "      <td>9865</td>\n",
       "      <td>5784</td>\n",
       "      <td>6489</td>\n",
       "      <td>11257</td>\n",
       "      <td>12273</td>\n",
       "      <td>23544</td>\n",
       "      <td>1427802</td>\n",
       "      <td>14</td>\n",
       "    </tr>\n",
       "  </tbody>\n",
       "</table>\n",
       "</div>"
      ],
      "text/plain": [
       "   Year  BIRTHS  DEATHS  DOMESTICMIG  INTERNATIONALMIG  NATURALCHG  NETMIG  \\\n",
       "0  2010    5063    2216         -103              1000        2847     897   \n",
       "1  2011   19950    9502         2939              4642       10448    7581   \n",
       "2  2012   20237    9469         4585              5555       10768   10140   \n",
       "3  2013   20791    9926         5614              7564       10865   13178   \n",
       "4  2014   21122    9865         5784              6489       11257   12273   \n",
       "\n",
       "   NPOPCHG  POPESTIMATE  RESIDUAL  \n",
       "0     3653      1341301       -91  \n",
       "1    18034      1359335         5  \n",
       "2    20837      1380172       -71  \n",
       "3    24086      1404258        43  \n",
       "4    23544      1427802        14  "
      ]
     },
     "execution_count": 16,
     "metadata": {},
     "output_type": "execute_result"
    }
   ],
   "source": [
    "# Group by 'YEAR' and calculate sums for the specified columns\n",
    "data = data.groupby('Year').agg(\n",
    "    BIRTHS=pd.NamedAgg(column='BIRTHS', aggfunc='sum'),\n",
    "    DEATHS=pd.NamedAgg(column='DEATHS', aggfunc='sum'),\n",
    "    DOMESTICMIG=pd.NamedAgg(column='DOMESTICMIG', aggfunc='sum'),\n",
    "    INTERNATIONALMIG=pd.NamedAgg(column='INTERNATIONALMIG', aggfunc='sum'),\n",
    "    NATURALCHG=pd.NamedAgg(column='NATURALCHG', aggfunc='sum'),\n",
    "    NETMIG=pd.NamedAgg(column='NETMIG', aggfunc='sum'),\n",
    "    NPOPCHG=pd.NamedAgg(column='NPOPCHG', aggfunc='sum'),\n",
    "    POPESTIMATE=pd.NamedAgg(column='POPESTIMATE', aggfunc='sum'),\n",
    "    RESIDUAL=pd.NamedAgg(column='RESIDUAL', aggfunc='sum')\n",
    ").reset_index() \n",
    "data.head()"
   ]
  },
  {
   "cell_type": "markdown",
   "id": "0ea8c573-d76f-4182-9375-8d549f83a121",
   "metadata": {
    "jp-MarkdownHeadingCollapsed": true
   },
   "source": [
    "## Creating migration change type table and schema"
   ]
  },
  {
   "cell_type": "markdown",
   "id": "21e2e9cb-5554-47a2-a261-47fa5fe0ee0e",
   "metadata": {},
   "source": [
    "### Aggregation for migration type table"
   ]
  },
  {
   "cell_type": "code",
   "execution_count": 17,
   "id": "cd249965-dc1b-4d66-8c11-237bbd84a214",
   "metadata": {},
   "outputs": [],
   "source": [
    "# Melt the DataFrame to \"unpivot\" the Total_DomesticMig and Total_InternationalMig columns\n",
    "migration_data = pd.melt(data, id_vars=['Year'], value_vars=['DOMESTICMIG', 'INTERNATIONALMIG'], var_name='ChangeType', value_name='PopChange')\n",
    "\n",
    "migration_data['ChangeType'] = migration_data['ChangeType'].map({'DOMESTICMIG': 'DOMESTICMIG', 'INTERNATIONALMIG': 'INTERNATIONALMIG'})\n",
    "\n",
    "# Sort by 'Year'\n",
    "migration_data_sorted = migration_data.sort_values(by='Year')"
   ]
  },
  {
   "cell_type": "markdown",
   "id": "fea07d5f-21bd-4cb0-92e2-5b124af61366",
   "metadata": {},
   "source": [
    "### Validating table"
   ]
  },
  {
   "cell_type": "code",
   "execution_count": 18,
   "id": "6c7ce9ed-6fc3-4232-9e9f-2e9f471d4e6f",
   "metadata": {},
   "outputs": [
    {
     "name": "stdout",
     "output_type": "stream",
     "text": [
      "{'name': 'memory',\n",
      " 'type': 'table',\n",
      " 'data': [],\n",
      " 'format': 'pandas',\n",
      " 'mediatype': 'application/pandas',\n",
      " 'schema': {'fields': [{'name': 'Year', 'type': 'integer'},\n",
      "                       {'name': 'ChangeType', 'type': 'string'},\n",
      "                       {'name': 'PopChange', 'type': 'integer'}]}}\n",
      "name: memory\n",
      "type: table\n",
      "data: []\n",
      "format: pandas\n",
      "mediatype: application/pandas\n",
      "schema:\n",
      "  fields:\n",
      "    - name: Year\n",
      "      type: integer\n",
      "    - name: ChangeType\n",
      "      type: string\n",
      "    - name: PopChange\n",
      "      type: integer\n",
      "\n",
      "[]\n"
     ]
    }
   ],
   "source": [
    "# Identify columns with no names (empty strings or NaN) and drop them\n",
    "migration_data_sorted = migration_data_sorted.loc[:, migration_data_sorted.columns[migration_data_sorted.columns != '']]\n",
    "\n",
    "# Preview data with frictionless\n",
    "resource = describe(migration_data_sorted)\n",
    "pprint(resource)\n",
    "\n",
    "# Detect missing values in table\n",
    "detector = Detector(field_missing_values=[\"\", \"n/a\"])\n",
    "resource = describe(migration_data_sorted, detector=detector)\n",
    "resource.to_yaml(MIGRATION_TABLE_METADATA_PATH)\n",
    "with open(MIGRATION_TABLE_METADATA_PATH) as file:\n",
    "    print(file.read())\n",
    "\n",
    "# Validate data\n",
    "report = validate(migration_data_sorted)\n",
    "pprint(report.flatten([\"rowNumber\", \"fieldNumber\", \"type\"]))\n",
    "\n",
    "# Save the DataFrame to output directory\n",
    "migration_data_sorted.to_csv(MIGRATION_TABLE_PATH, index=False)"
   ]
  },
  {
   "cell_type": "markdown",
   "id": "0d760b90-b101-4559-9725-e1c6322ede60",
   "metadata": {},
   "source": [
    "### Creating migration type table schema"
   ]
  },
  {
   "cell_type": "code",
   "execution_count": 19,
   "id": "923a4512-292d-42b4-933b-c414b7fcb4ab",
   "metadata": {},
   "outputs": [],
   "source": [
    "# Create table\n",
    "table = Table(MIGRATION_TABLE_PATH)\n",
    "\n",
    "# Infer table variable types\n",
    "table.infer()\n",
    "\n",
    "# Convert missing values to 'N/A'\n",
    "table.schema.descriptor['missingValues'] = ['N/A', '']\n",
    "table.schema.commit()\n",
    "\n",
    "# Save schema\n",
    "table.schema.save(MIGRATION_TABLE_SCHEMA_PATH)"
   ]
  },
  {
   "cell_type": "markdown",
   "id": "e2d70e67-e512-44f8-bc68-ca7341440b92",
   "metadata": {},
   "source": [
    "### Converting migration type table variables from schema"
   ]
  },
  {
   "cell_type": "code",
   "execution_count": 20,
   "id": "58ea2bba-5efd-48fc-8a0c-9e3c926a0538",
   "metadata": {},
   "outputs": [],
   "source": [
    "# Load the schema from the JSON file\n",
    "with open(MIGRATION_TABLE_SCHEMA_PATH, 'r') as file:\n",
    "    schema = json.load(file)\n",
    "\n",
    "# Define a function to convert data types based on the schema\n",
    "def convert_data_types(row, schema):\n",
    "    converted_row = {}\n",
    "    for field in schema['fields']:\n",
    "        field_name = field['name']\n",
    "        field_type = field['type']\n",
    "        if field_name in row:\n",
    "            if field_type == 'int':\n",
    "                converted_row[field_name] = int(row[field_name])\n",
    "            elif field_type == 'string':\n",
    "                converted_row[field_name] = str(row[field_name])\n",
    "            # Add more type conversions as needed\n",
    "            else:\n",
    "                converted_row[field_name] = row[field_name]  # Keep as is if type not recognized\n",
    "    return converted_row\n",
    "\n",
    "# Read the input data, apply conversion, and process it\n",
    "converted_data = []\n",
    "\n",
    "with open(MIGRATION_TABLE_PATH, 'r') as csvfile:\n",
    "    reader = csv.DictReader(csvfile)\n",
    "    for row in reader:\n",
    "        converted_row = convert_data_types(row, schema)\n",
    "        converted_data.append(converted_row)"
   ]
  },
  {
   "cell_type": "code",
   "execution_count": 21,
   "id": "eecff0fa-3891-419d-835c-28ad403abf85",
   "metadata": {},
   "outputs": [
    {
     "data": {
      "text/html": [
       "<div>\n",
       "<style scoped>\n",
       "    .dataframe tbody tr th:only-of-type {\n",
       "        vertical-align: middle;\n",
       "    }\n",
       "\n",
       "    .dataframe tbody tr th {\n",
       "        vertical-align: top;\n",
       "    }\n",
       "\n",
       "    .dataframe thead th {\n",
       "        text-align: right;\n",
       "    }\n",
       "</style>\n",
       "<table border=\"1\" class=\"dataframe\">\n",
       "  <thead>\n",
       "    <tr style=\"text-align: right;\">\n",
       "      <th></th>\n",
       "      <th>Year</th>\n",
       "      <th>ChangeType</th>\n",
       "      <th>PopChange</th>\n",
       "    </tr>\n",
       "  </thead>\n",
       "  <tbody>\n",
       "    <tr>\n",
       "      <th>0</th>\n",
       "      <td>2010</td>\n",
       "      <td>DOMESTICMIG</td>\n",
       "      <td>-103</td>\n",
       "    </tr>\n",
       "    <tr>\n",
       "      <th>1</th>\n",
       "      <td>2010</td>\n",
       "      <td>INTERNATIONALMIG</td>\n",
       "      <td>1000</td>\n",
       "    </tr>\n",
       "    <tr>\n",
       "      <th>2</th>\n",
       "      <td>2011</td>\n",
       "      <td>DOMESTICMIG</td>\n",
       "      <td>2939</td>\n",
       "    </tr>\n",
       "    <tr>\n",
       "      <th>3</th>\n",
       "      <td>2011</td>\n",
       "      <td>INTERNATIONALMIG</td>\n",
       "      <td>4642</td>\n",
       "    </tr>\n",
       "    <tr>\n",
       "      <th>4</th>\n",
       "      <td>2012</td>\n",
       "      <td>DOMESTICMIG</td>\n",
       "      <td>4585</td>\n",
       "    </tr>\n",
       "  </tbody>\n",
       "</table>\n",
       "</div>"
      ],
      "text/plain": [
       "   Year        ChangeType  PopChange\n",
       "0  2010       DOMESTICMIG       -103\n",
       "1  2010  INTERNATIONALMIG       1000\n",
       "2  2011       DOMESTICMIG       2939\n",
       "3  2011  INTERNATIONALMIG       4642\n",
       "4  2012       DOMESTICMIG       4585"
      ]
     },
     "execution_count": 21,
     "metadata": {},
     "output_type": "execute_result"
    }
   ],
   "source": [
    "# Preview migration change type table\n",
    "df = pd.read_csv(MIGRATION_TABLE_PATH)\n",
    "df.head()"
   ]
  },
  {
   "cell_type": "markdown",
   "id": "9ad5a145-438b-455e-8b2b-ca260f9de881",
   "metadata": {
    "jp-MarkdownHeadingCollapsed": true
   },
   "source": [
    "## Creating population change type table and schema"
   ]
  },
  {
   "cell_type": "markdown",
   "id": "b08ab266-c1f6-487c-820a-e4aabb3b95b4",
   "metadata": {},
   "source": [
    "### Aggregation for population change type table"
   ]
  },
  {
   "cell_type": "code",
   "execution_count": 22,
   "id": "dac35a5a-5b86-401f-99b4-1cd6695afc8f",
   "metadata": {},
   "outputs": [],
   "source": [
    "# Melt the DataFrame to \"unpivot\" the Total_NaturalChg and Total_NetMig columns\n",
    "popChange_data = pd.melt(data, id_vars=['Year'], value_vars=['NATURALCHG', 'NETMIG'], var_name='ChangeType', value_name='PopChange')\n",
    "\n",
    "popChange_data['ChangeType'] = popChange_data['ChangeType'].map({'NATURALCHG': 'NATURALCHG', 'NETMIG': 'NETMIG'})\n",
    "\n",
    "# Sort by 'Year'\n",
    "popChange_data_sorted = popChange_data.sort_values(by='Year')"
   ]
  },
  {
   "cell_type": "markdown",
   "id": "f59bc450-f010-44f3-a84d-4125665770cd",
   "metadata": {},
   "source": [
    "### Validating Population Change Table"
   ]
  },
  {
   "cell_type": "code",
   "execution_count": 23,
   "id": "d1c04473-551e-43bd-8815-a03532d36d5f",
   "metadata": {},
   "outputs": [
    {
     "name": "stdout",
     "output_type": "stream",
     "text": [
      "{'name': 'memory',\n",
      " 'type': 'table',\n",
      " 'data': [],\n",
      " 'format': 'pandas',\n",
      " 'mediatype': 'application/pandas',\n",
      " 'schema': {'fields': [{'name': 'Year', 'type': 'integer'},\n",
      "                       {'name': 'ChangeType', 'type': 'string'},\n",
      "                       {'name': 'PopChange', 'type': 'integer'}]}}\n",
      "name: memory\n",
      "type: table\n",
      "data: []\n",
      "format: pandas\n",
      "mediatype: application/pandas\n",
      "schema:\n",
      "  fields:\n",
      "    - name: Year\n",
      "      type: integer\n",
      "    - name: ChangeType\n",
      "      type: string\n",
      "    - name: PopChange\n",
      "      type: integer\n",
      "\n",
      "[]\n"
     ]
    }
   ],
   "source": [
    "# Identify columns with no names (empty strings or NaN) and drop them\n",
    "popChange_data_sorted = popChange_data_sorted.loc[:, popChange_data_sorted.columns[popChange_data_sorted.columns != '']]\n",
    "\n",
    "# Preview data with frictionless\n",
    "resource = describe(popChange_data_sorted)\n",
    "pprint(resource)\n",
    "\n",
    "# Detect missing values in table\n",
    "detector = Detector(field_missing_values=[\"\", \"n/a\"])\n",
    "resource = describe(popChange_data_sorted, detector=detector)\n",
    "resource.to_yaml(POPCHANGE_TABLE_METADATA_PATH)\n",
    "with open(POPCHANGE_TABLE_METADATA_PATH) as file:\n",
    "    print(file.read())\n",
    "\n",
    "# Validate data\n",
    "report = validate(popChange_data_sorted)\n",
    "pprint(report.flatten([\"rowNumber\", \"fieldNumber\", \"type\"]))\n",
    "\n",
    "# Save the DataFrame to output directory\n",
    "popChange_data_sorted.to_csv(POPCHANGE_TABLE_PATH, index=False)"
   ]
  },
  {
   "cell_type": "markdown",
   "id": "c22caf0f-1100-406d-b078-1d7611e31f30",
   "metadata": {},
   "source": [
    "### Creating population change type table type schema"
   ]
  },
  {
   "cell_type": "code",
   "execution_count": 24,
   "id": "f935276f-753b-4aaa-ae8a-8af95a8b1796",
   "metadata": {},
   "outputs": [],
   "source": [
    "# Create table\n",
    "table = Table(POPCHANGE_TABLE_PATH)\n",
    "\n",
    "# Infer table variable types\n",
    "table.infer()\n",
    "\n",
    "# Convert missing values to 'N/A'\n",
    "table.schema.descriptor['missingValues'] = ['N/A', '']\n",
    "table.schema.commit()\n",
    "\n",
    "# Save schema\n",
    "table.schema.save(POPCHANGE_TABLE_SCHEMA_PATH)"
   ]
  },
  {
   "cell_type": "markdown",
   "id": "15db9d70-dd42-42f5-abc8-3352bed1ff13",
   "metadata": {},
   "source": [
    "### Converting population change table variables from schema"
   ]
  },
  {
   "cell_type": "code",
   "execution_count": 25,
   "id": "ac5c26e1-dc51-4913-b078-53a19eb4b8a9",
   "metadata": {},
   "outputs": [],
   "source": [
    "# Load the schema from the JSON file\n",
    "with open(POPCHANGE_TABLE_SCHEMA_PATH, 'r') as file:\n",
    "    schema = json.load(file)\n",
    "\n",
    "# Define a function to convert data types based on the schema\n",
    "def convert_data_types(row, schema):\n",
    "    converted_row = {}\n",
    "    for field in schema['fields']:\n",
    "        field_name = field['name']\n",
    "        field_type = field['type']\n",
    "        if field_name in row:\n",
    "            if field_type == 'int':\n",
    "                converted_row[field_name] = int(row[field_name])\n",
    "            elif field_type == 'string':\n",
    "                converted_row[field_name] = str(row[field_name])\n",
    "            # Add more type conversions as needed\n",
    "            else:\n",
    "                converted_row[field_name] = row[field_name]  # Keep as is if type not recognized\n",
    "    return converted_row\n",
    "\n",
    "# Read the input data, apply conversion, and process it\n",
    "converted_data = []\n",
    "\n",
    "with open(POPCHANGE_TABLE_PATH, 'r') as csvfile:\n",
    "    reader = csv.DictReader(csvfile)\n",
    "    for row in reader:\n",
    "        converted_row = convert_data_types(row, schema)\n",
    "        converted_data.append(converted_row)"
   ]
  },
  {
   "cell_type": "code",
   "execution_count": 26,
   "id": "bdc6ef86-3749-4848-addd-1f003efc147a",
   "metadata": {},
   "outputs": [
    {
     "data": {
      "text/html": [
       "<div>\n",
       "<style scoped>\n",
       "    .dataframe tbody tr th:only-of-type {\n",
       "        vertical-align: middle;\n",
       "    }\n",
       "\n",
       "    .dataframe tbody tr th {\n",
       "        vertical-align: top;\n",
       "    }\n",
       "\n",
       "    .dataframe thead th {\n",
       "        text-align: right;\n",
       "    }\n",
       "</style>\n",
       "<table border=\"1\" class=\"dataframe\">\n",
       "  <thead>\n",
       "    <tr style=\"text-align: right;\">\n",
       "      <th></th>\n",
       "      <th>Year</th>\n",
       "      <th>ChangeType</th>\n",
       "      <th>PopChange</th>\n",
       "    </tr>\n",
       "  </thead>\n",
       "  <tbody>\n",
       "    <tr>\n",
       "      <th>0</th>\n",
       "      <td>2010</td>\n",
       "      <td>NATURALCHG</td>\n",
       "      <td>2847</td>\n",
       "    </tr>\n",
       "    <tr>\n",
       "      <th>1</th>\n",
       "      <td>2010</td>\n",
       "      <td>NETMIG</td>\n",
       "      <td>897</td>\n",
       "    </tr>\n",
       "    <tr>\n",
       "      <th>2</th>\n",
       "      <td>2011</td>\n",
       "      <td>NATURALCHG</td>\n",
       "      <td>10448</td>\n",
       "    </tr>\n",
       "    <tr>\n",
       "      <th>3</th>\n",
       "      <td>2011</td>\n",
       "      <td>NETMIG</td>\n",
       "      <td>7581</td>\n",
       "    </tr>\n",
       "    <tr>\n",
       "      <th>4</th>\n",
       "      <td>2012</td>\n",
       "      <td>NATURALCHG</td>\n",
       "      <td>10768</td>\n",
       "    </tr>\n",
       "  </tbody>\n",
       "</table>\n",
       "</div>"
      ],
      "text/plain": [
       "   Year  ChangeType  PopChange\n",
       "0  2010  NATURALCHG       2847\n",
       "1  2010      NETMIG        897\n",
       "2  2011  NATURALCHG      10448\n",
       "3  2011      NETMIG       7581\n",
       "4  2012  NATURALCHG      10768"
      ]
     },
     "execution_count": 26,
     "metadata": {},
     "output_type": "execute_result"
    }
   ],
   "source": [
    "# Preview population change type table\n",
    "df = pd.read_csv(POPCHANGE_TABLE_PATH)\n",
    "df.head()"
   ]
  },
  {
   "cell_type": "markdown",
   "id": "a65b2797-9310-4eac-8d2e-2ff378dd205d",
   "metadata": {},
   "source": [
    "## Writing data and charts to Excel file"
   ]
  },
  {
   "cell_type": "code",
   "execution_count": 40,
   "id": "634901f7-0b78-4102-860d-7026b61815b7",
   "metadata": {},
   "outputs": [],
   "source": [
    "# Create a Pandas Excel writer using XlsxWriter as the engine.\n",
    "writer = pd.ExcelWriter(OUTPUT_TABLE_PATH, engine='xlsxwriter')    \n",
    "\n",
    "# Read the CSV files\n",
    "popchange_df = pd.read_csv(POPCHANGE_TABLE_PATH)\n",
    "migration_df = pd.read_csv(MIGRATION_TABLE_PATH)\n",
    "\n",
    "# Divide each entry in the PopChange column by 1000\n",
    "popchange_df['PopChangeThousand'] = popchange_df['PopChange'] / 1000\n",
    "migration_df['PopChangeThousand'] = migration_df['PopChange'] / 1000\n",
    "\n",
    "# Pivot the DataFrames\n",
    "popchange_pivot = popchange_df.pivot(index='Year', columns='ChangeType', values='PopChangeThousand').reset_index()\n",
    "migration_pivot = migration_df.pivot(index='Year', columns='ChangeType', values='PopChangeThousand').reset_index()\n",
    "\n",
    "# Write the pivoted DataFrames to separate sheets\n",
    "popchange_pivot.to_excel(writer, sheet_name='Population Change by Type', index=False)\n",
    "migration_pivot.to_excel(writer, sheet_name='Migration Change by Type', index=False)\n",
    "\n",
    "workbook = writer.book\n",
    "\n",
    "# Helper function to add charts\n",
    "def add_stacked_bar_chart(worksheet_name, dataframe, workbook):\n",
    "    worksheet = writer.sheets[worksheet_name]\n",
    "    chart = workbook.add_chart({'type': 'column', 'subtype': 'stacked'})\n",
    "    \n",
    "    # Create a cell format object for Arial font\n",
    "    arial_font_format = workbook.add_format({'font_name': 'Arial', 'font_size': 10})\n",
    "    \n",
    "    for i in range(1, len(dataframe.columns)):\n",
    "        change_type = dataframe.columns[i]  # Get the ChangeType from the dataframe columns\n",
    "        color = BAR_COLORS.get(change_type, \"#FFFFFF\")  # Default to white if not found in BAR_COLORS\n",
    "        chart.add_series({\n",
    "            'name':       [worksheet_name, 0, i],\n",
    "            'categories': [worksheet_name, 1, 0, len(dataframe), 0],\n",
    "            'values':     [worksheet_name, 1, i, len(dataframe), i],\n",
    "            'fill':       {'color': color},  # Set the color for the series\n",
    "            'data_labels': {'font': {'name': 'Arial', 'color': 'black'}}  # Ensure data labels (if any) use Arial font\n",
    "        })\n",
    "    chart.set_title({'name': worksheet_name, 'name_font': {'name': 'Arial', 'size': 14}})\n",
    "    chart.set_x_axis({\n",
    "        'name': 'Year', \n",
    "        'name_font': {'name': 'Arial', 'size': 9}, \n",
    "        'num_font': {'name': 'Arial', 'size': 8}, \n",
    "        'label_position': 'low',\n",
    "        'major_tick_mark': 'none',  # Remove x-axis tick marks\n",
    "        'line': {'none': True}  # Remove x-axis line if desired\n",
    "    })\n",
    "    chart.set_y_axis({\n",
    "        'name': 'Population Change (thousands)', \n",
    "        'name_font': {'name': 'Arial', 'size': 9}, \n",
    "        'num_font': {'name': 'Arial', 'size': 8}, \n",
    "        'major_gridlines': {\n",
    "            'visible': True, \n",
    "            'line': {'color': '#808080', 'width': 1}  # Medium gray color for major gridlines\n",
    "        },\n",
    "        'line': {'none': True}  # Remove y-axis line\n",
    "    })\n",
    "    chart.set_legend({'position': 'bottom', 'font': {'name': 'Arial', 'size': 10}})\n",
    "    \n",
    "    # Set the column format for the 'Year' column to Arial font\n",
    "    worksheet.set_column('A:A', 15, arial_font_format)\n",
    "    \n",
    "    worksheet.insert_chart('G2', chart)\n",
    "\n",
    "# Add charts for each sheet\n",
    "add_stacked_bar_chart('Population Change by Type', popchange_pivot, workbook)\n",
    "add_stacked_bar_chart('Migration Change by Type', migration_pivot, workbook)\n",
    "\n",
    "# Compute totals\n",
    "NATURALCHG = popchange_df[popchange_df['ChangeType'].isin(['NATURALCHG'])]['PopChange'].sum()\n",
    "NETMIG = popchange_df[popchange_df['ChangeType'].isin(['NETMIG'])]['PopChange'].sum()\n",
    "DOMESTICMIG = migration_df[migration_df['ChangeType'].isin(['DOMESTICMIG'])]['PopChange'].sum()\n",
    "INTERNATIONALMIG = migration_df[migration_df['ChangeType'].isin(['INTERNATIONALMIG'])]['PopChange'].sum()\n",
    "\n",
    "# Compute total population change\n",
    "NPOPCHG = NATURALCHG + NETMIG\n",
    "\n",
    "# Compute proportions as percentages\n",
    "PROP_NATURALCHG = (NATURALCHG / NPOPCHG) * 100 \n",
    "PROP_MIGRATION = (NETMIG / NPOPCHG) * 100 \n",
    "\n",
    "# Compute proportions of total migration as percentages\n",
    "PROP_DOMESTICMIG = (DOMESTICMIG / NETMIG) * 100 \n",
    "PROP_INTERNATIONALMIG = (INTERNATIONALMIG / NETMIG) * 100 \n",
    "\n",
    "# Prepare data for appending\n",
    "data_to_append = {\n",
    "    'Metric': ['NPOPCHG', 'NATURALCHG', 'NETMIG', 'PROP_NATURALCHG', 'PROP_MIGRATION', 'DOMESTICMIG', 'INTERNATIONALMIG', 'PROP_DOMESTICMIG', 'PROP_INTERNATIONALMI' ],\n",
    "    'Total': [NPOPCHG, NATURALCHG, NETMIG, PROP_NATURALCHG, PROP_MIGRATION, DOMESTICMIG, INTERNATIONALMIG, PROP_DOMESTICMIG, PROP_INTERNATIONALMIG ]\n",
    "}\n",
    "\n",
    "results_df = pd.DataFrame(data_to_append)\n",
    "\n",
    "results_df.to_excel(writer, sheet_name='Appendix', index=False)\n",
    "\n",
    "# Close the Pandas Excel writer and output the Excel file\n",
    "writer.close()"
   ]
  },
  {
   "cell_type": "code",
   "execution_count": 39,
   "id": "49015e42-127b-4103-9d91-ab670cb6b136",
   "metadata": {},
   "outputs": [
    {
     "data": {
      "text/html": [
       "<div>\n",
       "<style scoped>\n",
       "    .dataframe tbody tr th:only-of-type {\n",
       "        vertical-align: middle;\n",
       "    }\n",
       "\n",
       "    .dataframe tbody tr th {\n",
       "        vertical-align: top;\n",
       "    }\n",
       "\n",
       "    .dataframe thead th {\n",
       "        text-align: right;\n",
       "    }\n",
       "</style>\n",
       "<table border=\"1\" class=\"dataframe\">\n",
       "  <thead>\n",
       "    <tr style=\"text-align: right;\">\n",
       "      <th>ChangeType</th>\n",
       "      <th>Year</th>\n",
       "      <th>DOMESTICMIG</th>\n",
       "      <th>INTERNATIONALMIG</th>\n",
       "    </tr>\n",
       "  </thead>\n",
       "  <tbody>\n",
       "    <tr>\n",
       "      <th>0</th>\n",
       "      <td>2010</td>\n",
       "      <td>-0.103</td>\n",
       "      <td>1.000</td>\n",
       "    </tr>\n",
       "    <tr>\n",
       "      <th>1</th>\n",
       "      <td>2011</td>\n",
       "      <td>2.939</td>\n",
       "      <td>4.642</td>\n",
       "    </tr>\n",
       "    <tr>\n",
       "      <th>2</th>\n",
       "      <td>2012</td>\n",
       "      <td>4.585</td>\n",
       "      <td>5.555</td>\n",
       "    </tr>\n",
       "    <tr>\n",
       "      <th>3</th>\n",
       "      <td>2013</td>\n",
       "      <td>5.614</td>\n",
       "      <td>7.564</td>\n",
       "    </tr>\n",
       "    <tr>\n",
       "      <th>4</th>\n",
       "      <td>2014</td>\n",
       "      <td>5.784</td>\n",
       "      <td>6.489</td>\n",
       "    </tr>\n",
       "    <tr>\n",
       "      <th>5</th>\n",
       "      <td>2015</td>\n",
       "      <td>4.675</td>\n",
       "      <td>7.889</td>\n",
       "    </tr>\n",
       "    <tr>\n",
       "      <th>6</th>\n",
       "      <td>2016</td>\n",
       "      <td>2.232</td>\n",
       "      <td>7.949</td>\n",
       "    </tr>\n",
       "    <tr>\n",
       "      <th>7</th>\n",
       "      <td>2017</td>\n",
       "      <td>8.299</td>\n",
       "      <td>6.293</td>\n",
       "    </tr>\n",
       "    <tr>\n",
       "      <th>8</th>\n",
       "      <td>2018</td>\n",
       "      <td>2.810</td>\n",
       "      <td>4.125</td>\n",
       "    </tr>\n",
       "    <tr>\n",
       "      <th>9</th>\n",
       "      <td>2019</td>\n",
       "      <td>0.046</td>\n",
       "      <td>3.807</td>\n",
       "    </tr>\n",
       "    <tr>\n",
       "      <th>10</th>\n",
       "      <td>2020</td>\n",
       "      <td>-0.498</td>\n",
       "      <td>0.197</td>\n",
       "    </tr>\n",
       "    <tr>\n",
       "      <th>11</th>\n",
       "      <td>2021</td>\n",
       "      <td>-9.594</td>\n",
       "      <td>3.090</td>\n",
       "    </tr>\n",
       "  </tbody>\n",
       "</table>\n",
       "</div>"
      ],
      "text/plain": [
       "ChangeType  Year  DOMESTICMIG  INTERNATIONALMIG\n",
       "0           2010       -0.103             1.000\n",
       "1           2011        2.939             4.642\n",
       "2           2012        4.585             5.555\n",
       "3           2013        5.614             7.564\n",
       "4           2014        5.784             6.489\n",
       "5           2015        4.675             7.889\n",
       "6           2016        2.232             7.949\n",
       "7           2017        8.299             6.293\n",
       "8           2018        2.810             4.125\n",
       "9           2019        0.046             3.807\n",
       "10          2020       -0.498             0.197\n",
       "11          2021       -9.594             3.090"
      ]
     },
     "execution_count": 39,
     "metadata": {},
     "output_type": "execute_result"
    }
   ],
   "source": [
    "migration_pivot_chart\n"
   ]
  },
  {
   "cell_type": "code",
   "execution_count": 28,
   "id": "d850c4e2-6de4-44f6-9c38-727dd17133e8",
   "metadata": {},
   "outputs": [
    {
     "data": {
      "text/html": [
       "<div>\n",
       "<style scoped>\n",
       "    .dataframe tbody tr th:only-of-type {\n",
       "        vertical-align: middle;\n",
       "    }\n",
       "\n",
       "    .dataframe tbody tr th {\n",
       "        vertical-align: top;\n",
       "    }\n",
       "\n",
       "    .dataframe thead th {\n",
       "        text-align: right;\n",
       "    }\n",
       "</style>\n",
       "<table border=\"1\" class=\"dataframe\">\n",
       "  <thead>\n",
       "    <tr style=\"text-align: right;\">\n",
       "      <th></th>\n",
       "      <th>Year</th>\n",
       "      <th>ChangeType</th>\n",
       "      <th>PopChange</th>\n",
       "      <th>PopChangeThousand</th>\n",
       "    </tr>\n",
       "  </thead>\n",
       "  <tbody>\n",
       "    <tr>\n",
       "      <th>0</th>\n",
       "      <td>2010</td>\n",
       "      <td>DOMESTICMIG</td>\n",
       "      <td>-103</td>\n",
       "      <td>-0.103</td>\n",
       "    </tr>\n",
       "    <tr>\n",
       "      <th>1</th>\n",
       "      <td>2010</td>\n",
       "      <td>INTERNATIONALMIG</td>\n",
       "      <td>1000</td>\n",
       "      <td>1.000</td>\n",
       "    </tr>\n",
       "    <tr>\n",
       "      <th>2</th>\n",
       "      <td>2011</td>\n",
       "      <td>DOMESTICMIG</td>\n",
       "      <td>2939</td>\n",
       "      <td>2.939</td>\n",
       "    </tr>\n",
       "    <tr>\n",
       "      <th>3</th>\n",
       "      <td>2011</td>\n",
       "      <td>INTERNATIONALMIG</td>\n",
       "      <td>4642</td>\n",
       "      <td>4.642</td>\n",
       "    </tr>\n",
       "    <tr>\n",
       "      <th>4</th>\n",
       "      <td>2012</td>\n",
       "      <td>DOMESTICMIG</td>\n",
       "      <td>4585</td>\n",
       "      <td>4.585</td>\n",
       "    </tr>\n",
       "  </tbody>\n",
       "</table>\n",
       "</div>"
      ],
      "text/plain": [
       "   Year        ChangeType  PopChange  PopChangeThousand\n",
       "0  2010       DOMESTICMIG       -103             -0.103\n",
       "1  2010  INTERNATIONALMIG       1000              1.000\n",
       "2  2011       DOMESTICMIG       2939              2.939\n",
       "3  2011  INTERNATIONALMIG       4642              4.642\n",
       "4  2012       DOMESTICMIG       4585              4.585"
      ]
     },
     "execution_count": 28,
     "metadata": {},
     "output_type": "execute_result"
    }
   ],
   "source": [
    "migration_df.head()"
   ]
  },
  {
   "cell_type": "markdown",
   "id": "365bb68e-f88d-4a13-9334-9ef4961685a2",
   "metadata": {},
   "source": [
    "## Creating Charts"
   ]
  },
  {
   "cell_type": "markdown",
   "id": "f3c75525-b928-4ae2-8154-6aeab2d78835",
   "metadata": {},
   "source": [
    "### Creating stacked bar chart for migration type"
   ]
  },
  {
   "cell_type": "code",
   "execution_count": 29,
   "id": "a6c3ca36-9f69-4cf3-9df6-25b97ea490f1",
   "metadata": {},
   "outputs": [
    {
     "data": {
      "image/png": "[encoded data removed]",
      "text/plain": [
       "<Figure size 1000x600 with 1 Axes>"
      ]
     },
     "metadata": {},
     "output_type": "display_data"
    }
   ],
   "source": [
    "# Pivot the DataFrame to have 'Year' as the index, 'ChangeType' as the columns, and 'PopChange' as the values\n",
    "pivoted_migration_data = migration_data_sorted.pivot(index='Year', columns='ChangeType', values='PopChange').fillna(0)\n",
    "\n",
    "# Rename the columns for the legend\n",
    "pivoted_migration_data.columns = ['Domestic Migration', 'International Migration']\n",
    "\n",
    "# Plot the stacked bar chart\n",
    "ax=pivoted_migration_data.plot(kind='bar', stacked=True, figsize=(10, 6))\n",
    "\n",
    "# Adding labels to each bar, omitting labels for values less than 1.5K\n",
    "for container in ax.containers:\n",
    "    labels = [f'{x/1000:.1f}K' if abs(x) >= 1500 else '' for x in container.datavalues]\n",
    "    ax.bar_label(container, labels=labels, label_type='center')\n",
    "plt.title('MIGRATION BY TYPE')\n",
    "\n",
    "# Show the plot\n",
    "plt.show()"
   ]
  },
  {
   "cell_type": "markdown",
   "id": "bfde0a27-8bc5-45bb-9b1c-f5ced8adedbc",
   "metadata": {},
   "source": [
    "### Creating stacked bar chart for population change type"
   ]
  },
  {
   "cell_type": "code",
   "execution_count": 30,
   "id": "2206b02a-7938-45f3-b382-6b53630e04dd",
   "metadata": {},
   "outputs": [
    {
     "data": {
      "image/png": "[encoded data removed]",
      "text/plain": [
       "<Figure size 1000x600 with 1 Axes>"
      ]
     },
     "metadata": {},
     "output_type": "display_data"
    }
   ],
   "source": [
    "# Pivot the DataFrame to have 'Year' as the index, 'ChangeType' as the columns, and 'PopChange' as the values\n",
    "pivoted_popChange_data = popChange_data_sorted.pivot(index='Year', columns='ChangeType', values='PopChange').fillna(0)\n",
    "\n",
    "# Rename the columns for the legend\n",
    "pivoted_popChange_data.columns = ['Migration', 'Natural Change']\n",
    "\n",
    "# Plot the stacked bar chart\n",
    "ax= pivoted_popChange_data.plot(kind='bar', stacked=True, figsize=(10, 6))\n",
    "\n",
    "# Adding labels to each bar, omitting labels for values less than 1.5K\n",
    "for container in ax.containers:\n",
    "    labels = [f'{x/1000:.1f}K' if abs(x) >= 1500 else '' for x in container.datavalues]\n",
    "    ax.bar_label(container, labels=labels, label_type='center')\n",
    "\n",
    "plt.title('POPULATION CHANGE BY TYPE')\n",
    "\n",
    "# Show the plot\n",
    "plt.show()"
   ]
  },
  {
   "cell_type": "code",
   "execution_count": null,
   "id": "f6afc3eb-66b3-49fe-981d-cbbc249f65fb",
   "metadata": {},
   "outputs": [],
   "source": []
  }
 ],
 "metadata": {
  "kernelspec": {
   "display_name": "Python 3 (ipykernel)",
   "language": "python",
   "name": "python3"
  },
  "language_info": {
   "codemirror_mode": {
    "name": "ipython",
    "version": 3
   },
   "file_extension": ".py",
   "mimetype": "text/x-python",
   "name": "python",
   "nbconvert_exporter": "python",
   "pygments_lexer": "ipython3",
   "version": "3.12.2"
  }
 },
 "nbformat": 4,
 "nbformat_minor": 5
}
